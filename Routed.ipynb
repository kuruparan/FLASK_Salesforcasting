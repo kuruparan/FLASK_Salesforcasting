{
 "cells": [
  {
   "cell_type": "code",
   "execution_count": null,
   "metadata": {
    "scrolled": false
   },
   "outputs": [
    {
     "name": "stdout",
     "output_type": "stream",
     "text": [
      " * Serving Flask app \"__main__\" (lazy loading)\n",
      " * Environment: production\n",
      "   WARNING: This is a development server. Do not use it in a production deployment.\n",
      "   Use a production WSGI server instead.\n",
      " * Debug mode: off\n"
     ]
    },
    {
     "name": "stderr",
     "output_type": "stream",
     "text": [
      " * Running on http://127.0.0.1:5002/ (Press CTRL+C to quit)\n",
      "127.0.0.1 - - [30/Jan/2020 12:35:25] \"\u001b[32mPOST /discount HTTP/1.1\u001b[0m\" 302 -\n"
     ]
    },
    {
     "name": "stdout",
     "output_type": "stream",
     "text": [
      "b'{\\n\\t\"Year\":\"2019\", \"month\":\"Mar\",\"week\":\"2,3\",\"salespoint\":\"CADAM\", \"discount\":\"1\"\\n}'\n",
      "{'Year': '2019', 'month': 'Mar', 'week': '2,3', 'salespoint': 'CADAM', 'discount': '1'}\n",
      "2019 Mar 2,3 CADAM 1\n"
     ]
    },
    {
     "name": "stderr",
     "output_type": "stream",
     "text": [
      "C:\\Users\\kuruparans\\AppData\\Local\\conda\\conda\\envs\\cps\\lib\\site-packages\\sklearn\\externals\\joblib\\__init__.py:15: DeprecationWarning: sklearn.externals.joblib is deprecated in 0.21 and will be removed in 0.23. Please import this functionality directly from joblib, which can be installed with: pip install joblib. If this warning is raised when loading pickled models, you may need to re-serialize those models with scikit-learn 0.21+.\n",
      "  warnings.warn(msg, category=DeprecationWarning)\n"
     ]
    },
    {
     "name": "stdout",
     "output_type": "stream",
     "text": [
      "['1']\n",
      "2019 Mar ['2', '3'] CADAM ['1']\n",
      "1\n"
     ]
    },
    {
     "name": "stderr",
     "output_type": "stream",
     "text": [
      "C:\\Users\\kuruparans\\AppData\\Local\\conda\\conda\\envs\\cps\\lib\\site-packages\\sklearn\\base.py:306: UserWarning: Trying to unpickle estimator DecisionTreeRegressor from version 0.21.3 when using version 0.21.2. This might lead to breaking code or invalid results. Use at your own risk.\n",
      "  UserWarning)\n",
      "C:\\Users\\kuruparans\\AppData\\Local\\conda\\conda\\envs\\cps\\lib\\site-packages\\sklearn\\base.py:306: UserWarning: Trying to unpickle estimator RandomForestRegressor from version 0.21.3 when using version 0.21.2. This might lead to breaking code or invalid results. Use at your own risk.\n",
      "  UserWarning)\n",
      "C:\\Users\\kuruparans\\AppData\\Local\\conda\\conda\\envs\\cps\\lib\\site-packages\\sklearn\\base.py:306: UserWarning: Trying to unpickle estimator DecisionTreeRegressor from version 0.21.3 when using version 0.21.2. This might lead to breaking code or invalid results. Use at your own risk.\n",
      "  UserWarning)\n"
     ]
    },
    {
     "name": "stdout",
     "output_type": "stream",
     "text": [
      "[[4.93510667e+03 2.33533333e+01 0.00000000e+00 4.36016000e+04\n",
      "  1.18950000e+02 1.00692433e+04 1.00791000e+03 1.50000000e-01\n",
      "  3.33333333e-03 1.36887333e+03 5.04400000e+01 0.00000000e+00\n",
      "  6.18007000e+03 0.00000000e+00 9.87755667e+03 1.97684667e+03\n",
      "  7.87553333e+02 0.00000000e+00 1.48125667e+04 6.64056667e+02\n",
      "  3.33333333e-02]]\n"
     ]
    },
    {
     "name": "stderr",
     "output_type": "stream",
     "text": [
      "C:\\Users\\kuruparans\\AppData\\Local\\conda\\conda\\envs\\cps\\lib\\site-packages\\sklearn\\base.py:306: UserWarning: Trying to unpickle estimator RandomForestRegressor from version 0.21.3 when using version 0.21.2. This might lead to breaking code or invalid results. Use at your own risk.\n",
      "  UserWarning)\n"
     ]
    },
    {
     "name": "stdout",
     "output_type": "stream",
     "text": [
      "[[5.07814000e+03 2.03200000e+01 0.00000000e+00 4.83344733e+04\n",
      "  1.26803333e+02 9.68377000e+03 1.18069000e+03 4.49000000e+00\n",
      "  9.97666667e+00 1.48824000e+03 6.21066667e+01 0.00000000e+00\n",
      "  6.70927333e+03 0.00000000e+00 1.25058500e+04 2.37043667e+03\n",
      "  1.21710667e+03 0.00000000e+00 1.80447200e+04 7.86710000e+02\n",
      "  3.33333333e-02]]\n",
      "1\n",
      "[{'Year': '2019', 'month': 'Mar', 'week': '2,3', 'salespoint': 'CADAM', 'Discount': '1', 'Walltile_size': 'WallTiles A', 'Predicted_sales': 10013.2466666667}, {'Year': '2019', 'month': 'Mar', 'week': '2,3', 'salespoint': 'CADAM', 'Discount': '1', 'Walltile_size': 'WallTiles B', 'Predicted_sales': 43.6733333333}, {'Year': '2019', 'month': 'Mar', 'week': '2,3', 'salespoint': 'CADAM', 'Discount': '1', 'Walltile_size': 'WallTiles C', 'Predicted_sales': 0.0}, {'Year': '2019', 'month': 'Mar', 'week': '2,3', 'salespoint': 'CADAM', 'Discount': '1', 'Walltile_size': 'WallTiles D', 'Predicted_sales': 91936.0733333333}, {'Year': '2019', 'month': 'Mar', 'week': '2,3', 'salespoint': 'CADAM', 'Discount': '1', 'Walltile_size': 'WallTiles E', 'Predicted_sales': 245.7533333333}, {'Year': '2019', 'month': 'Mar', 'week': '2,3', 'salespoint': 'CADAM', 'Discount': '1', 'Walltile_size': 'WallTiles F', 'Predicted_sales': 19753.0133333333}, {'Year': '2019', 'month': 'Mar', 'week': '2,3', 'salespoint': 'CADAM', 'Discount': '1', 'Walltile_size': 'WallTiles G', 'Predicted_sales': 2188.6}, {'Year': '2019', 'month': 'Mar', 'week': '2,3', 'salespoint': 'CADAM', 'Discount': '1', 'Walltile_size': 'WallTiles H', 'Predicted_sales': 4.64}, {'Year': '2019', 'month': 'Mar', 'week': '2,3', 'salespoint': 'CADAM', 'Discount': '1', 'Walltile_size': 'WallTiles I', 'Predicted_sales': 9.98}, {'Year': '2019', 'month': 'Mar', 'week': '2,3', 'salespoint': 'CADAM', 'Discount': '1', 'Walltile_size': 'WallTiles K', 'Predicted_sales': 2857.1133333333}, {'Year': '2019', 'month': 'Mar', 'week': '2,3', 'salespoint': 'CADAM', 'Discount': '1', 'Walltile_size': 'WallTiles L', 'Predicted_sales': 112.5466666667}, {'Year': '2019', 'month': 'Mar', 'week': '2,3', 'salespoint': 'CADAM', 'Discount': '1', 'Walltile_size': 'WallTiles M', 'Predicted_sales': 0.0}, {'Year': '2019', 'month': 'Mar', 'week': '2,3', 'salespoint': 'CADAM', 'Discount': '1', 'Walltile_size': 'WallTiles P', 'Predicted_sales': 12889.3433333333}, {'Year': '2019', 'month': 'Mar', 'week': '2,3', 'salespoint': 'CADAM', 'Discount': '1', 'Walltile_size': 'WallTiles Q', 'Predicted_sales': 0.0}, {'Year': '2019', 'month': 'Mar', 'week': '2,3', 'salespoint': 'CADAM', 'Discount': '1', 'Walltile_size': 'WallTiles R', 'Predicted_sales': 22383.4066666667}, {'Year': '2019', 'month': 'Mar', 'week': '2,3', 'salespoint': 'CADAM', 'Discount': '1', 'Walltile_size': 'WallTiles S', 'Predicted_sales': 4347.2833333333}, {'Year': '2019', 'month': 'Mar', 'week': '2,3', 'salespoint': 'CADAM', 'Discount': '1', 'Walltile_size': 'WallTiles T', 'Predicted_sales': 2004.66}, {'Year': '2019', 'month': 'Mar', 'week': '2,3', 'salespoint': 'CADAM', 'Discount': '1', 'Walltile_size': 'WallTiles U', 'Predicted_sales': 0.0}, {'Year': '2019', 'month': 'Mar', 'week': '2,3', 'salespoint': 'CADAM', 'Discount': '1', 'Walltile_size': 'WallTiles V', 'Predicted_sales': 32857.2866666667}, {'Year': '2019', 'month': 'Mar', 'week': '2,3', 'salespoint': 'CADAM', 'Discount': '1', 'Walltile_size': 'WallTiles W', 'Predicted_sales': 1450.7666666667}, {'Year': '2019', 'month': 'Mar', 'week': '2,3', 'salespoint': 'CADAM', 'Discount': '1', 'Walltile_size': 'WallTiles Y', 'Predicted_sales': 0.0666666667}]\n"
     ]
    },
    {
     "name": "stderr",
     "output_type": "stream",
     "text": [
      "127.0.0.1 - - [30/Jan/2020 12:35:35] \"\u001b[37mGET /predic2 HTTP/1.1\u001b[0m\" 200 -\n",
      "127.0.0.1 - - [30/Jan/2020 12:36:10] \"\u001b[32mPOST /mapp HTTP/1.1\u001b[0m\" 302 -\n"
     ]
    },
    {
     "name": "stdout",
     "output_type": "stream",
     "text": [
      "b'{\\n\\t\"Year\":\"2019\", \"month\":\"Mar\",\"week\":\"2,3\",\"salespoint\":\"CADAM\", \"discount\":\"1\"\\n}'\n",
      "{'Year': '2019', 'month': 'Mar', 'week': '2,3', 'salespoint': 'CADAM', 'discount': '1'}\n",
      "2019 Mar 2,3 CADAM 1\n",
      "['1']\n",
      "2019 Mar ['2', '3'] CADAM ['1']\n",
      "1\n"
     ]
    },
    {
     "name": "stderr",
     "output_type": "stream",
     "text": [
      "C:\\Users\\kuruparans\\AppData\\Local\\conda\\conda\\envs\\cps\\lib\\site-packages\\sklearn\\base.py:306: UserWarning: Trying to unpickle estimator DecisionTreeRegressor from version 0.21.3 when using version 0.21.2. This might lead to breaking code or invalid results. Use at your own risk.\n",
      "  UserWarning)\n",
      "C:\\Users\\kuruparans\\AppData\\Local\\conda\\conda\\envs\\cps\\lib\\site-packages\\sklearn\\base.py:306: UserWarning: Trying to unpickle estimator RandomForestRegressor from version 0.21.3 when using version 0.21.2. This might lead to breaking code or invalid results. Use at your own risk.\n",
      "  UserWarning)\n",
      "C:\\Users\\kuruparans\\AppData\\Local\\conda\\conda\\envs\\cps\\lib\\site-packages\\sklearn\\base.py:306: UserWarning: Trying to unpickle estimator DecisionTreeRegressor from version 0.21.3 when using version 0.21.2. This might lead to breaking code or invalid results. Use at your own risk.\n",
      "  UserWarning)\n",
      "C:\\Users\\kuruparans\\AppData\\Local\\conda\\conda\\envs\\cps\\lib\\site-packages\\sklearn\\base.py:306: UserWarning: Trying to unpickle estimator RandomForestRegressor from version 0.21.3 when using version 0.21.2. This might lead to breaking code or invalid results. Use at your own risk.\n",
      "  UserWarning)\n"
     ]
    },
    {
     "name": "stdout",
     "output_type": "stream",
     "text": [
      "1\n"
     ]
    },
    {
     "name": "stderr",
     "output_type": "stream",
     "text": [
      "C:\\Users\\kuruparans\\AppData\\Local\\conda\\conda\\envs\\cps\\lib\\site-packages\\sklearn\\base.py:306: UserWarning: Trying to unpickle estimator DecisionTreeRegressor from version 0.21.3 when using version 0.21.2. This might lead to breaking code or invalid results. Use at your own risk.\n",
      "  UserWarning)\n",
      "C:\\Users\\kuruparans\\AppData\\Local\\conda\\conda\\envs\\cps\\lib\\site-packages\\sklearn\\base.py:306: UserWarning: Trying to unpickle estimator RandomForestRegressor from version 0.21.3 when using version 0.21.2. This might lead to breaking code or invalid results. Use at your own risk.\n",
      "  UserWarning)\n",
      "C:\\Users\\kuruparans\\AppData\\Local\\conda\\conda\\envs\\cps\\lib\\site-packages\\sklearn\\base.py:306: UserWarning: Trying to unpickle estimator DecisionTreeRegressor from version 0.21.3 when using version 0.21.2. This might lead to breaking code or invalid results. Use at your own risk.\n",
      "  UserWarning)\n",
      "C:\\Users\\kuruparans\\AppData\\Local\\conda\\conda\\envs\\cps\\lib\\site-packages\\sklearn\\base.py:306: UserWarning: Trying to unpickle estimator RandomForestRegressor from version 0.21.3 when using version 0.21.2. This might lead to breaking code or invalid results. Use at your own risk.\n",
      "  UserWarning)\n"
     ]
    },
    {
     "name": "stdout",
     "output_type": "stream",
     "text": [
      "1\n"
     ]
    },
    {
     "name": "stderr",
     "output_type": "stream",
     "text": [
      "C:\\Users\\kuruparans\\AppData\\Local\\conda\\conda\\envs\\cps\\lib\\site-packages\\sklearn\\base.py:306: UserWarning: Trying to unpickle estimator DecisionTreeRegressor from version 0.21.3 when using version 0.21.2. This might lead to breaking code or invalid results. Use at your own risk.\n",
      "  UserWarning)\n",
      "C:\\Users\\kuruparans\\AppData\\Local\\conda\\conda\\envs\\cps\\lib\\site-packages\\sklearn\\base.py:306: UserWarning: Trying to unpickle estimator RandomForestRegressor from version 0.21.3 when using version 0.21.2. This might lead to breaking code or invalid results. Use at your own risk.\n",
      "  UserWarning)\n",
      "C:\\Users\\kuruparans\\AppData\\Local\\conda\\conda\\envs\\cps\\lib\\site-packages\\sklearn\\base.py:306: UserWarning: Trying to unpickle estimator DecisionTreeRegressor from version 0.21.3 when using version 0.21.2. This might lead to breaking code or invalid results. Use at your own risk.\n",
      "  UserWarning)\n",
      "C:\\Users\\kuruparans\\AppData\\Local\\conda\\conda\\envs\\cps\\lib\\site-packages\\sklearn\\base.py:306: UserWarning: Trying to unpickle estimator RandomForestRegressor from version 0.21.3 when using version 0.21.2. This might lead to breaking code or invalid results. Use at your own risk.\n",
      "  UserWarning)\n"
     ]
    },
    {
     "name": "stdout",
     "output_type": "stream",
     "text": [
      "1\n"
     ]
    },
    {
     "name": "stderr",
     "output_type": "stream",
     "text": [
      "C:\\Users\\kuruparans\\AppData\\Local\\conda\\conda\\envs\\cps\\lib\\site-packages\\sklearn\\base.py:306: UserWarning: Trying to unpickle estimator DecisionTreeRegressor from version 0.21.3 when using version 0.21.2. This might lead to breaking code or invalid results. Use at your own risk.\n",
      "  UserWarning)\n",
      "C:\\Users\\kuruparans\\AppData\\Local\\conda\\conda\\envs\\cps\\lib\\site-packages\\sklearn\\base.py:306: UserWarning: Trying to unpickle estimator RandomForestRegressor from version 0.21.3 when using version 0.21.2. This might lead to breaking code or invalid results. Use at your own risk.\n",
      "  UserWarning)\n",
      "C:\\Users\\kuruparans\\AppData\\Local\\conda\\conda\\envs\\cps\\lib\\site-packages\\sklearn\\base.py:306: UserWarning: Trying to unpickle estimator DecisionTreeRegressor from version 0.21.3 when using version 0.21.2. This might lead to breaking code or invalid results. Use at your own risk.\n",
      "  UserWarning)\n",
      "C:\\Users\\kuruparans\\AppData\\Local\\conda\\conda\\envs\\cps\\lib\\site-packages\\sklearn\\base.py:306: UserWarning: Trying to unpickle estimator RandomForestRegressor from version 0.21.3 when using version 0.21.2. This might lead to breaking code or invalid results. Use at your own risk.\n",
      "  UserWarning)\n"
     ]
    },
    {
     "name": "stdout",
     "output_type": "stream",
     "text": [
      "1\n"
     ]
    },
    {
     "name": "stderr",
     "output_type": "stream",
     "text": [
      "C:\\Users\\kuruparans\\AppData\\Local\\conda\\conda\\envs\\cps\\lib\\site-packages\\sklearn\\base.py:306: UserWarning: Trying to unpickle estimator DecisionTreeRegressor from version 0.21.3 when using version 0.21.2. This might lead to breaking code or invalid results. Use at your own risk.\n",
      "  UserWarning)\n",
      "C:\\Users\\kuruparans\\AppData\\Local\\conda\\conda\\envs\\cps\\lib\\site-packages\\sklearn\\base.py:306: UserWarning: Trying to unpickle estimator RandomForestRegressor from version 0.21.3 when using version 0.21.2. This might lead to breaking code or invalid results. Use at your own risk.\n",
      "  UserWarning)\n",
      "C:\\Users\\kuruparans\\AppData\\Local\\conda\\conda\\envs\\cps\\lib\\site-packages\\sklearn\\base.py:306: UserWarning: Trying to unpickle estimator DecisionTreeRegressor from version 0.21.3 when using version 0.21.2. This might lead to breaking code or invalid results. Use at your own risk.\n",
      "  UserWarning)\n",
      "C:\\Users\\kuruparans\\AppData\\Local\\conda\\conda\\envs\\cps\\lib\\site-packages\\sklearn\\base.py:306: UserWarning: Trying to unpickle estimator RandomForestRegressor from version 0.21.3 when using version 0.21.2. This might lead to breaking code or invalid results. Use at your own risk.\n",
      "  UserWarning)\n"
     ]
    },
    {
     "name": "stdout",
     "output_type": "stream",
     "text": [
      "1\n"
     ]
    },
    {
     "name": "stderr",
     "output_type": "stream",
     "text": [
      "C:\\Users\\kuruparans\\AppData\\Local\\conda\\conda\\envs\\cps\\lib\\site-packages\\sklearn\\base.py:306: UserWarning: Trying to unpickle estimator DecisionTreeRegressor from version 0.21.3 when using version 0.21.2. This might lead to breaking code or invalid results. Use at your own risk.\n",
      "  UserWarning)\n",
      "C:\\Users\\kuruparans\\AppData\\Local\\conda\\conda\\envs\\cps\\lib\\site-packages\\sklearn\\base.py:306: UserWarning: Trying to unpickle estimator RandomForestRegressor from version 0.21.3 when using version 0.21.2. This might lead to breaking code or invalid results. Use at your own risk.\n",
      "  UserWarning)\n",
      "C:\\Users\\kuruparans\\AppData\\Local\\conda\\conda\\envs\\cps\\lib\\site-packages\\sklearn\\base.py:306: UserWarning: Trying to unpickle estimator DecisionTreeRegressor from version 0.21.3 when using version 0.21.2. This might lead to breaking code or invalid results. Use at your own risk.\n",
      "  UserWarning)\n",
      "C:\\Users\\kuruparans\\AppData\\Local\\conda\\conda\\envs\\cps\\lib\\site-packages\\sklearn\\base.py:306: UserWarning: Trying to unpickle estimator RandomForestRegressor from version 0.21.3 when using version 0.21.2. This might lead to breaking code or invalid results. Use at your own risk.\n",
      "  UserWarning)\n"
     ]
    },
    {
     "name": "stdout",
     "output_type": "stream",
     "text": [
      "1\n"
     ]
    },
    {
     "name": "stderr",
     "output_type": "stream",
     "text": [
      "C:\\Users\\kuruparans\\AppData\\Local\\conda\\conda\\envs\\cps\\lib\\site-packages\\sklearn\\base.py:306: UserWarning: Trying to unpickle estimator DecisionTreeRegressor from version 0.21.3 when using version 0.21.2. This might lead to breaking code or invalid results. Use at your own risk.\n",
      "  UserWarning)\n",
      "C:\\Users\\kuruparans\\AppData\\Local\\conda\\conda\\envs\\cps\\lib\\site-packages\\sklearn\\base.py:306: UserWarning: Trying to unpickle estimator RandomForestRegressor from version 0.21.3 when using version 0.21.2. This might lead to breaking code or invalid results. Use at your own risk.\n",
      "  UserWarning)\n",
      "C:\\Users\\kuruparans\\AppData\\Local\\conda\\conda\\envs\\cps\\lib\\site-packages\\sklearn\\base.py:306: UserWarning: Trying to unpickle estimator DecisionTreeRegressor from version 0.21.3 when using version 0.21.2. This might lead to breaking code or invalid results. Use at your own risk.\n",
      "  UserWarning)\n",
      "C:\\Users\\kuruparans\\AppData\\Local\\conda\\conda\\envs\\cps\\lib\\site-packages\\sklearn\\base.py:306: UserWarning: Trying to unpickle estimator RandomForestRegressor from version 0.21.3 when using version 0.21.2. This might lead to breaking code or invalid results. Use at your own risk.\n",
      "  UserWarning)\n"
     ]
    },
    {
     "name": "stdout",
     "output_type": "stream",
     "text": [
      "1\n"
     ]
    },
    {
     "name": "stderr",
     "output_type": "stream",
     "text": [
      "C:\\Users\\kuruparans\\AppData\\Local\\conda\\conda\\envs\\cps\\lib\\site-packages\\sklearn\\base.py:306: UserWarning: Trying to unpickle estimator DecisionTreeRegressor from version 0.21.3 when using version 0.21.2. This might lead to breaking code or invalid results. Use at your own risk.\n",
      "  UserWarning)\n",
      "C:\\Users\\kuruparans\\AppData\\Local\\conda\\conda\\envs\\cps\\lib\\site-packages\\sklearn\\base.py:306: UserWarning: Trying to unpickle estimator RandomForestRegressor from version 0.21.3 when using version 0.21.2. This might lead to breaking code or invalid results. Use at your own risk.\n",
      "  UserWarning)\n",
      "C:\\Users\\kuruparans\\AppData\\Local\\conda\\conda\\envs\\cps\\lib\\site-packages\\sklearn\\base.py:306: UserWarning: Trying to unpickle estimator DecisionTreeRegressor from version 0.21.3 when using version 0.21.2. This might lead to breaking code or invalid results. Use at your own risk.\n",
      "  UserWarning)\n",
      "C:\\Users\\kuruparans\\AppData\\Local\\conda\\conda\\envs\\cps\\lib\\site-packages\\sklearn\\base.py:306: UserWarning: Trying to unpickle estimator RandomForestRegressor from version 0.21.3 when using version 0.21.2. This might lead to breaking code or invalid results. Use at your own risk.\n",
      "  UserWarning)\n"
     ]
    },
    {
     "name": "stdout",
     "output_type": "stream",
     "text": [
      "1\n"
     ]
    },
    {
     "name": "stderr",
     "output_type": "stream",
     "text": [
      "C:\\Users\\kuruparans\\AppData\\Local\\conda\\conda\\envs\\cps\\lib\\site-packages\\sklearn\\base.py:306: UserWarning: Trying to unpickle estimator DecisionTreeRegressor from version 0.21.3 when using version 0.21.2. This might lead to breaking code or invalid results. Use at your own risk.\n",
      "  UserWarning)\n",
      "C:\\Users\\kuruparans\\AppData\\Local\\conda\\conda\\envs\\cps\\lib\\site-packages\\sklearn\\base.py:306: UserWarning: Trying to unpickle estimator RandomForestRegressor from version 0.21.3 when using version 0.21.2. This might lead to breaking code or invalid results. Use at your own risk.\n",
      "  UserWarning)\n",
      "C:\\Users\\kuruparans\\AppData\\Local\\conda\\conda\\envs\\cps\\lib\\site-packages\\sklearn\\base.py:306: UserWarning: Trying to unpickle estimator DecisionTreeRegressor from version 0.21.3 when using version 0.21.2. This might lead to breaking code or invalid results. Use at your own risk.\n",
      "  UserWarning)\n",
      "C:\\Users\\kuruparans\\AppData\\Local\\conda\\conda\\envs\\cps\\lib\\site-packages\\sklearn\\base.py:306: UserWarning: Trying to unpickle estimator RandomForestRegressor from version 0.21.3 when using version 0.21.2. This might lead to breaking code or invalid results. Use at your own risk.\n",
      "  UserWarning)\n"
     ]
    },
    {
     "name": "stdout",
     "output_type": "stream",
     "text": [
      "1\n"
     ]
    },
    {
     "name": "stderr",
     "output_type": "stream",
     "text": [
      "C:\\Users\\kuruparans\\AppData\\Local\\conda\\conda\\envs\\cps\\lib\\site-packages\\sklearn\\base.py:306: UserWarning: Trying to unpickle estimator DecisionTreeRegressor from version 0.21.3 when using version 0.21.2. This might lead to breaking code or invalid results. Use at your own risk.\n",
      "  UserWarning)\n",
      "C:\\Users\\kuruparans\\AppData\\Local\\conda\\conda\\envs\\cps\\lib\\site-packages\\sklearn\\base.py:306: UserWarning: Trying to unpickle estimator RandomForestRegressor from version 0.21.3 when using version 0.21.2. This might lead to breaking code or invalid results. Use at your own risk.\n",
      "  UserWarning)\n",
      "C:\\Users\\kuruparans\\AppData\\Local\\conda\\conda\\envs\\cps\\lib\\site-packages\\sklearn\\base.py:306: UserWarning: Trying to unpickle estimator DecisionTreeRegressor from version 0.21.3 when using version 0.21.2. This might lead to breaking code or invalid results. Use at your own risk.\n",
      "  UserWarning)\n",
      "C:\\Users\\kuruparans\\AppData\\Local\\conda\\conda\\envs\\cps\\lib\\site-packages\\sklearn\\base.py:306: UserWarning: Trying to unpickle estimator RandomForestRegressor from version 0.21.3 when using version 0.21.2. This might lead to breaking code or invalid results. Use at your own risk.\n",
      "  UserWarning)\n"
     ]
    },
    {
     "name": "stdout",
     "output_type": "stream",
     "text": [
      "1\n"
     ]
    },
    {
     "name": "stderr",
     "output_type": "stream",
     "text": [
      "C:\\Users\\kuruparans\\AppData\\Local\\conda\\conda\\envs\\cps\\lib\\site-packages\\sklearn\\base.py:306: UserWarning: Trying to unpickle estimator DecisionTreeRegressor from version 0.21.3 when using version 0.21.2. This might lead to breaking code or invalid results. Use at your own risk.\n",
      "  UserWarning)\n",
      "C:\\Users\\kuruparans\\AppData\\Local\\conda\\conda\\envs\\cps\\lib\\site-packages\\sklearn\\base.py:306: UserWarning: Trying to unpickle estimator RandomForestRegressor from version 0.21.3 when using version 0.21.2. This might lead to breaking code or invalid results. Use at your own risk.\n",
      "  UserWarning)\n",
      "C:\\Users\\kuruparans\\AppData\\Local\\conda\\conda\\envs\\cps\\lib\\site-packages\\sklearn\\base.py:306: UserWarning: Trying to unpickle estimator DecisionTreeRegressor from version 0.21.3 when using version 0.21.2. This might lead to breaking code or invalid results. Use at your own risk.\n",
      "  UserWarning)\n",
      "C:\\Users\\kuruparans\\AppData\\Local\\conda\\conda\\envs\\cps\\lib\\site-packages\\sklearn\\base.py:306: UserWarning: Trying to unpickle estimator RandomForestRegressor from version 0.21.3 when using version 0.21.2. This might lead to breaking code or invalid results. Use at your own risk.\n",
      "  UserWarning)\n"
     ]
    },
    {
     "name": "stdout",
     "output_type": "stream",
     "text": [
      "1\n"
     ]
    },
    {
     "name": "stderr",
     "output_type": "stream",
     "text": [
      "C:\\Users\\kuruparans\\AppData\\Local\\conda\\conda\\envs\\cps\\lib\\site-packages\\sklearn\\base.py:306: UserWarning: Trying to unpickle estimator DecisionTreeRegressor from version 0.21.3 when using version 0.21.2. This might lead to breaking code or invalid results. Use at your own risk.\n",
      "  UserWarning)\n",
      "C:\\Users\\kuruparans\\AppData\\Local\\conda\\conda\\envs\\cps\\lib\\site-packages\\sklearn\\base.py:306: UserWarning: Trying to unpickle estimator RandomForestRegressor from version 0.21.3 when using version 0.21.2. This might lead to breaking code or invalid results. Use at your own risk.\n",
      "  UserWarning)\n",
      "C:\\Users\\kuruparans\\AppData\\Local\\conda\\conda\\envs\\cps\\lib\\site-packages\\sklearn\\base.py:306: UserWarning: Trying to unpickle estimator DecisionTreeRegressor from version 0.21.3 when using version 0.21.2. This might lead to breaking code or invalid results. Use at your own risk.\n",
      "  UserWarning)\n",
      "C:\\Users\\kuruparans\\AppData\\Local\\conda\\conda\\envs\\cps\\lib\\site-packages\\sklearn\\base.py:306: UserWarning: Trying to unpickle estimator RandomForestRegressor from version 0.21.3 when using version 0.21.2. This might lead to breaking code or invalid results. Use at your own risk.\n",
      "  UserWarning)\n"
     ]
    },
    {
     "name": "stdout",
     "output_type": "stream",
     "text": [
      "1\n"
     ]
    },
    {
     "name": "stderr",
     "output_type": "stream",
     "text": [
      "C:\\Users\\kuruparans\\AppData\\Local\\conda\\conda\\envs\\cps\\lib\\site-packages\\sklearn\\base.py:306: UserWarning: Trying to unpickle estimator DecisionTreeRegressor from version 0.21.3 when using version 0.21.2. This might lead to breaking code or invalid results. Use at your own risk.\n",
      "  UserWarning)\n",
      "C:\\Users\\kuruparans\\AppData\\Local\\conda\\conda\\envs\\cps\\lib\\site-packages\\sklearn\\base.py:306: UserWarning: Trying to unpickle estimator RandomForestRegressor from version 0.21.3 when using version 0.21.2. This might lead to breaking code or invalid results. Use at your own risk.\n",
      "  UserWarning)\n",
      "C:\\Users\\kuruparans\\AppData\\Local\\conda\\conda\\envs\\cps\\lib\\site-packages\\sklearn\\base.py:306: UserWarning: Trying to unpickle estimator DecisionTreeRegressor from version 0.21.3 when using version 0.21.2. This might lead to breaking code or invalid results. Use at your own risk.\n",
      "  UserWarning)\n",
      "C:\\Users\\kuruparans\\AppData\\Local\\conda\\conda\\envs\\cps\\lib\\site-packages\\sklearn\\base.py:306: UserWarning: Trying to unpickle estimator RandomForestRegressor from version 0.21.3 when using version 0.21.2. This might lead to breaking code or invalid results. Use at your own risk.\n",
      "  UserWarning)\n"
     ]
    },
    {
     "name": "stdout",
     "output_type": "stream",
     "text": [
      "1\n"
     ]
    },
    {
     "name": "stderr",
     "output_type": "stream",
     "text": [
      "C:\\Users\\kuruparans\\AppData\\Local\\conda\\conda\\envs\\cps\\lib\\site-packages\\sklearn\\base.py:306: UserWarning: Trying to unpickle estimator DecisionTreeRegressor from version 0.21.3 when using version 0.21.2. This might lead to breaking code or invalid results. Use at your own risk.\n",
      "  UserWarning)\n",
      "C:\\Users\\kuruparans\\AppData\\Local\\conda\\conda\\envs\\cps\\lib\\site-packages\\sklearn\\base.py:306: UserWarning: Trying to unpickle estimator RandomForestRegressor from version 0.21.3 when using version 0.21.2. This might lead to breaking code or invalid results. Use at your own risk.\n",
      "  UserWarning)\n",
      "C:\\Users\\kuruparans\\AppData\\Local\\conda\\conda\\envs\\cps\\lib\\site-packages\\sklearn\\base.py:306: UserWarning: Trying to unpickle estimator DecisionTreeRegressor from version 0.21.3 when using version 0.21.2. This might lead to breaking code or invalid results. Use at your own risk.\n",
      "  UserWarning)\n",
      "C:\\Users\\kuruparans\\AppData\\Local\\conda\\conda\\envs\\cps\\lib\\site-packages\\sklearn\\base.py:306: UserWarning: Trying to unpickle estimator RandomForestRegressor from version 0.21.3 when using version 0.21.2. This might lead to breaking code or invalid results. Use at your own risk.\n",
      "  UserWarning)\n"
     ]
    },
    {
     "name": "stdout",
     "output_type": "stream",
     "text": [
      "1\n"
     ]
    },
    {
     "name": "stderr",
     "output_type": "stream",
     "text": [
      "C:\\Users\\kuruparans\\AppData\\Local\\conda\\conda\\envs\\cps\\lib\\site-packages\\sklearn\\base.py:306: UserWarning: Trying to unpickle estimator DecisionTreeRegressor from version 0.21.3 when using version 0.21.2. This might lead to breaking code or invalid results. Use at your own risk.\n",
      "  UserWarning)\n",
      "C:\\Users\\kuruparans\\AppData\\Local\\conda\\conda\\envs\\cps\\lib\\site-packages\\sklearn\\base.py:306: UserWarning: Trying to unpickle estimator RandomForestRegressor from version 0.21.3 when using version 0.21.2. This might lead to breaking code or invalid results. Use at your own risk.\n",
      "  UserWarning)\n",
      "C:\\Users\\kuruparans\\AppData\\Local\\conda\\conda\\envs\\cps\\lib\\site-packages\\sklearn\\base.py:306: UserWarning: Trying to unpickle estimator DecisionTreeRegressor from version 0.21.3 when using version 0.21.2. This might lead to breaking code or invalid results. Use at your own risk.\n",
      "  UserWarning)\n",
      "C:\\Users\\kuruparans\\AppData\\Local\\conda\\conda\\envs\\cps\\lib\\site-packages\\sklearn\\base.py:306: UserWarning: Trying to unpickle estimator RandomForestRegressor from version 0.21.3 when using version 0.21.2. This might lead to breaking code or invalid results. Use at your own risk.\n",
      "  UserWarning)\n"
     ]
    },
    {
     "name": "stdout",
     "output_type": "stream",
     "text": [
      "1\n"
     ]
    },
    {
     "name": "stderr",
     "output_type": "stream",
     "text": [
      "C:\\Users\\kuruparans\\AppData\\Local\\conda\\conda\\envs\\cps\\lib\\site-packages\\sklearn\\base.py:306: UserWarning: Trying to unpickle estimator DecisionTreeRegressor from version 0.21.3 when using version 0.21.2. This might lead to breaking code or invalid results. Use at your own risk.\n",
      "  UserWarning)\n",
      "C:\\Users\\kuruparans\\AppData\\Local\\conda\\conda\\envs\\cps\\lib\\site-packages\\sklearn\\base.py:306: UserWarning: Trying to unpickle estimator RandomForestRegressor from version 0.21.3 when using version 0.21.2. This might lead to breaking code or invalid results. Use at your own risk.\n",
      "  UserWarning)\n",
      "C:\\Users\\kuruparans\\AppData\\Local\\conda\\conda\\envs\\cps\\lib\\site-packages\\sklearn\\base.py:306: UserWarning: Trying to unpickle estimator DecisionTreeRegressor from version 0.21.3 when using version 0.21.2. This might lead to breaking code or invalid results. Use at your own risk.\n",
      "  UserWarning)\n",
      "C:\\Users\\kuruparans\\AppData\\Local\\conda\\conda\\envs\\cps\\lib\\site-packages\\sklearn\\base.py:306: UserWarning: Trying to unpickle estimator RandomForestRegressor from version 0.21.3 when using version 0.21.2. This might lead to breaking code or invalid results. Use at your own risk.\n",
      "  UserWarning)\n"
     ]
    },
    {
     "name": "stdout",
     "output_type": "stream",
     "text": [
      "1\n"
     ]
    },
    {
     "name": "stderr",
     "output_type": "stream",
     "text": [
      "C:\\Users\\kuruparans\\AppData\\Local\\conda\\conda\\envs\\cps\\lib\\site-packages\\sklearn\\base.py:306: UserWarning: Trying to unpickle estimator DecisionTreeRegressor from version 0.21.3 when using version 0.21.2. This might lead to breaking code or invalid results. Use at your own risk.\n",
      "  UserWarning)\n",
      "C:\\Users\\kuruparans\\AppData\\Local\\conda\\conda\\envs\\cps\\lib\\site-packages\\sklearn\\base.py:306: UserWarning: Trying to unpickle estimator RandomForestRegressor from version 0.21.3 when using version 0.21.2. This might lead to breaking code or invalid results. Use at your own risk.\n",
      "  UserWarning)\n",
      "C:\\Users\\kuruparans\\AppData\\Local\\conda\\conda\\envs\\cps\\lib\\site-packages\\sklearn\\base.py:306: UserWarning: Trying to unpickle estimator DecisionTreeRegressor from version 0.21.3 when using version 0.21.2. This might lead to breaking code or invalid results. Use at your own risk.\n",
      "  UserWarning)\n",
      "C:\\Users\\kuruparans\\AppData\\Local\\conda\\conda\\envs\\cps\\lib\\site-packages\\sklearn\\base.py:306: UserWarning: Trying to unpickle estimator RandomForestRegressor from version 0.21.3 when using version 0.21.2. This might lead to breaking code or invalid results. Use at your own risk.\n",
      "  UserWarning)\n"
     ]
    },
    {
     "name": "stdout",
     "output_type": "stream",
     "text": [
      "1\n"
     ]
    },
    {
     "name": "stderr",
     "output_type": "stream",
     "text": [
      "C:\\Users\\kuruparans\\AppData\\Local\\conda\\conda\\envs\\cps\\lib\\site-packages\\sklearn\\base.py:306: UserWarning: Trying to unpickle estimator DecisionTreeRegressor from version 0.21.3 when using version 0.21.2. This might lead to breaking code or invalid results. Use at your own risk.\n",
      "  UserWarning)\n",
      "C:\\Users\\kuruparans\\AppData\\Local\\conda\\conda\\envs\\cps\\lib\\site-packages\\sklearn\\base.py:306: UserWarning: Trying to unpickle estimator RandomForestRegressor from version 0.21.3 when using version 0.21.2. This might lead to breaking code or invalid results. Use at your own risk.\n",
      "  UserWarning)\n",
      "C:\\Users\\kuruparans\\AppData\\Local\\conda\\conda\\envs\\cps\\lib\\site-packages\\sklearn\\base.py:306: UserWarning: Trying to unpickle estimator DecisionTreeRegressor from version 0.21.3 when using version 0.21.2. This might lead to breaking code or invalid results. Use at your own risk.\n",
      "  UserWarning)\n",
      "C:\\Users\\kuruparans\\AppData\\Local\\conda\\conda\\envs\\cps\\lib\\site-packages\\sklearn\\base.py:306: UserWarning: Trying to unpickle estimator RandomForestRegressor from version 0.21.3 when using version 0.21.2. This might lead to breaking code or invalid results. Use at your own risk.\n",
      "  UserWarning)\n"
     ]
    },
    {
     "name": "stdout",
     "output_type": "stream",
     "text": [
      "1\n"
     ]
    },
    {
     "name": "stderr",
     "output_type": "stream",
     "text": [
      "C:\\Users\\kuruparans\\AppData\\Local\\conda\\conda\\envs\\cps\\lib\\site-packages\\sklearn\\base.py:306: UserWarning: Trying to unpickle estimator DecisionTreeRegressor from version 0.21.3 when using version 0.21.2. This might lead to breaking code or invalid results. Use at your own risk.\n",
      "  UserWarning)\n",
      "C:\\Users\\kuruparans\\AppData\\Local\\conda\\conda\\envs\\cps\\lib\\site-packages\\sklearn\\base.py:306: UserWarning: Trying to unpickle estimator RandomForestRegressor from version 0.21.3 when using version 0.21.2. This might lead to breaking code or invalid results. Use at your own risk.\n",
      "  UserWarning)\n",
      "C:\\Users\\kuruparans\\AppData\\Local\\conda\\conda\\envs\\cps\\lib\\site-packages\\sklearn\\base.py:306: UserWarning: Trying to unpickle estimator DecisionTreeRegressor from version 0.21.3 when using version 0.21.2. This might lead to breaking code or invalid results. Use at your own risk.\n",
      "  UserWarning)\n",
      "C:\\Users\\kuruparans\\AppData\\Local\\conda\\conda\\envs\\cps\\lib\\site-packages\\sklearn\\base.py:306: UserWarning: Trying to unpickle estimator RandomForestRegressor from version 0.21.3 when using version 0.21.2. This might lead to breaking code or invalid results. Use at your own risk.\n",
      "  UserWarning)\n"
     ]
    },
    {
     "name": "stdout",
     "output_type": "stream",
     "text": [
      "1\n"
     ]
    },
    {
     "name": "stderr",
     "output_type": "stream",
     "text": [
      "C:\\Users\\kuruparans\\AppData\\Local\\conda\\conda\\envs\\cps\\lib\\site-packages\\sklearn\\base.py:306: UserWarning: Trying to unpickle estimator DecisionTreeRegressor from version 0.21.3 when using version 0.21.2. This might lead to breaking code or invalid results. Use at your own risk.\n",
      "  UserWarning)\n",
      "C:\\Users\\kuruparans\\AppData\\Local\\conda\\conda\\envs\\cps\\lib\\site-packages\\sklearn\\base.py:306: UserWarning: Trying to unpickle estimator RandomForestRegressor from version 0.21.3 when using version 0.21.2. This might lead to breaking code or invalid results. Use at your own risk.\n",
      "  UserWarning)\n",
      "C:\\Users\\kuruparans\\AppData\\Local\\conda\\conda\\envs\\cps\\lib\\site-packages\\sklearn\\base.py:306: UserWarning: Trying to unpickle estimator DecisionTreeRegressor from version 0.21.3 when using version 0.21.2. This might lead to breaking code or invalid results. Use at your own risk.\n",
      "  UserWarning)\n",
      "C:\\Users\\kuruparans\\AppData\\Local\\conda\\conda\\envs\\cps\\lib\\site-packages\\sklearn\\base.py:306: UserWarning: Trying to unpickle estimator RandomForestRegressor from version 0.21.3 when using version 0.21.2. This might lead to breaking code or invalid results. Use at your own risk.\n",
      "  UserWarning)\n"
     ]
    },
    {
     "name": "stdout",
     "output_type": "stream",
     "text": [
      "1\n"
     ]
    },
    {
     "name": "stderr",
     "output_type": "stream",
     "text": [
      "C:\\Users\\kuruparans\\AppData\\Local\\conda\\conda\\envs\\cps\\lib\\site-packages\\sklearn\\base.py:306: UserWarning: Trying to unpickle estimator DecisionTreeRegressor from version 0.21.3 when using version 0.21.2. This might lead to breaking code or invalid results. Use at your own risk.\n",
      "  UserWarning)\n",
      "C:\\Users\\kuruparans\\AppData\\Local\\conda\\conda\\envs\\cps\\lib\\site-packages\\sklearn\\base.py:306: UserWarning: Trying to unpickle estimator RandomForestRegressor from version 0.21.3 when using version 0.21.2. This might lead to breaking code or invalid results. Use at your own risk.\n",
      "  UserWarning)\n",
      "C:\\Users\\kuruparans\\AppData\\Local\\conda\\conda\\envs\\cps\\lib\\site-packages\\sklearn\\base.py:306: UserWarning: Trying to unpickle estimator DecisionTreeRegressor from version 0.21.3 when using version 0.21.2. This might lead to breaking code or invalid results. Use at your own risk.\n",
      "  UserWarning)\n",
      "C:\\Users\\kuruparans\\AppData\\Local\\conda\\conda\\envs\\cps\\lib\\site-packages\\sklearn\\base.py:306: UserWarning: Trying to unpickle estimator RandomForestRegressor from version 0.21.3 when using version 0.21.2. This might lead to breaking code or invalid results. Use at your own risk.\n",
      "  UserWarning)\n"
     ]
    },
    {
     "name": "stdout",
     "output_type": "stream",
     "text": [
      "1\n"
     ]
    },
    {
     "name": "stderr",
     "output_type": "stream",
     "text": [
      "C:\\Users\\kuruparans\\AppData\\Local\\conda\\conda\\envs\\cps\\lib\\site-packages\\sklearn\\base.py:306: UserWarning: Trying to unpickle estimator DecisionTreeRegressor from version 0.21.3 when using version 0.21.2. This might lead to breaking code or invalid results. Use at your own risk.\n",
      "  UserWarning)\n",
      "C:\\Users\\kuruparans\\AppData\\Local\\conda\\conda\\envs\\cps\\lib\\site-packages\\sklearn\\base.py:306: UserWarning: Trying to unpickle estimator RandomForestRegressor from version 0.21.3 when using version 0.21.2. This might lead to breaking code or invalid results. Use at your own risk.\n",
      "  UserWarning)\n",
      "C:\\Users\\kuruparans\\AppData\\Local\\conda\\conda\\envs\\cps\\lib\\site-packages\\sklearn\\base.py:306: UserWarning: Trying to unpickle estimator DecisionTreeRegressor from version 0.21.3 when using version 0.21.2. This might lead to breaking code or invalid results. Use at your own risk.\n",
      "  UserWarning)\n",
      "C:\\Users\\kuruparans\\AppData\\Local\\conda\\conda\\envs\\cps\\lib\\site-packages\\sklearn\\base.py:306: UserWarning: Trying to unpickle estimator RandomForestRegressor from version 0.21.3 when using version 0.21.2. This might lead to breaking code or invalid results. Use at your own risk.\n",
      "  UserWarning)\n"
     ]
    },
    {
     "name": "stdout",
     "output_type": "stream",
     "text": [
      "1\n"
     ]
    },
    {
     "name": "stderr",
     "output_type": "stream",
     "text": [
      "C:\\Users\\kuruparans\\AppData\\Local\\conda\\conda\\envs\\cps\\lib\\site-packages\\sklearn\\base.py:306: UserWarning: Trying to unpickle estimator DecisionTreeRegressor from version 0.21.3 when using version 0.21.2. This might lead to breaking code or invalid results. Use at your own risk.\n",
      "  UserWarning)\n",
      "C:\\Users\\kuruparans\\AppData\\Local\\conda\\conda\\envs\\cps\\lib\\site-packages\\sklearn\\base.py:306: UserWarning: Trying to unpickle estimator RandomForestRegressor from version 0.21.3 when using version 0.21.2. This might lead to breaking code or invalid results. Use at your own risk.\n",
      "  UserWarning)\n",
      "C:\\Users\\kuruparans\\AppData\\Local\\conda\\conda\\envs\\cps\\lib\\site-packages\\sklearn\\base.py:306: UserWarning: Trying to unpickle estimator DecisionTreeRegressor from version 0.21.3 when using version 0.21.2. This might lead to breaking code or invalid results. Use at your own risk.\n",
      "  UserWarning)\n",
      "C:\\Users\\kuruparans\\AppData\\Local\\conda\\conda\\envs\\cps\\lib\\site-packages\\sklearn\\base.py:306: UserWarning: Trying to unpickle estimator RandomForestRegressor from version 0.21.3 when using version 0.21.2. This might lead to breaking code or invalid results. Use at your own risk.\n",
      "  UserWarning)\n",
      "C:\\Users\\kuruparans\\AppData\\Local\\conda\\conda\\envs\\cps\\lib\\site-packages\\sklearn\\base.py:306: UserWarning: Trying to unpickle estimator DecisionTreeRegressor from version 0.21.3 when using version 0.21.2. This might lead to breaking code or invalid results. Use at your own risk.\n",
      "  UserWarning)\n"
     ]
    },
    {
     "name": "stdout",
     "output_type": "stream",
     "text": [
      "1\n"
     ]
    },
    {
     "name": "stderr",
     "output_type": "stream",
     "text": [
      "C:\\Users\\kuruparans\\AppData\\Local\\conda\\conda\\envs\\cps\\lib\\site-packages\\sklearn\\base.py:306: UserWarning: Trying to unpickle estimator RandomForestRegressor from version 0.21.3 when using version 0.21.2. This might lead to breaking code or invalid results. Use at your own risk.\n",
      "  UserWarning)\n",
      "C:\\Users\\kuruparans\\AppData\\Local\\conda\\conda\\envs\\cps\\lib\\site-packages\\sklearn\\base.py:306: UserWarning: Trying to unpickle estimator DecisionTreeRegressor from version 0.21.3 when using version 0.21.2. This might lead to breaking code or invalid results. Use at your own risk.\n",
      "  UserWarning)\n",
      "C:\\Users\\kuruparans\\AppData\\Local\\conda\\conda\\envs\\cps\\lib\\site-packages\\sklearn\\base.py:306: UserWarning: Trying to unpickle estimator RandomForestRegressor from version 0.21.3 when using version 0.21.2. This might lead to breaking code or invalid results. Use at your own risk.\n",
      "  UserWarning)\n",
      "C:\\Users\\kuruparans\\AppData\\Local\\conda\\conda\\envs\\cps\\lib\\site-packages\\sklearn\\base.py:306: UserWarning: Trying to unpickle estimator DecisionTreeRegressor from version 0.21.3 when using version 0.21.2. This might lead to breaking code or invalid results. Use at your own risk.\n",
      "  UserWarning)\n"
     ]
    },
    {
     "name": "stdout",
     "output_type": "stream",
     "text": [
      "1\n"
     ]
    },
    {
     "name": "stderr",
     "output_type": "stream",
     "text": [
      "C:\\Users\\kuruparans\\AppData\\Local\\conda\\conda\\envs\\cps\\lib\\site-packages\\sklearn\\base.py:306: UserWarning: Trying to unpickle estimator RandomForestRegressor from version 0.21.3 when using version 0.21.2. This might lead to breaking code or invalid results. Use at your own risk.\n",
      "  UserWarning)\n",
      "C:\\Users\\kuruparans\\AppData\\Local\\conda\\conda\\envs\\cps\\lib\\site-packages\\sklearn\\base.py:306: UserWarning: Trying to unpickle estimator DecisionTreeRegressor from version 0.21.3 when using version 0.21.2. This might lead to breaking code or invalid results. Use at your own risk.\n",
      "  UserWarning)\n",
      "C:\\Users\\kuruparans\\AppData\\Local\\conda\\conda\\envs\\cps\\lib\\site-packages\\sklearn\\base.py:306: UserWarning: Trying to unpickle estimator RandomForestRegressor from version 0.21.3 when using version 0.21.2. This might lead to breaking code or invalid results. Use at your own risk.\n",
      "  UserWarning)\n",
      "C:\\Users\\kuruparans\\AppData\\Local\\conda\\conda\\envs\\cps\\lib\\site-packages\\sklearn\\base.py:306: UserWarning: Trying to unpickle estimator DecisionTreeRegressor from version 0.21.3 when using version 0.21.2. This might lead to breaking code or invalid results. Use at your own risk.\n",
      "  UserWarning)\n"
     ]
    },
    {
     "name": "stdout",
     "output_type": "stream",
     "text": [
      "1\n"
     ]
    },
    {
     "name": "stderr",
     "output_type": "stream",
     "text": [
      "C:\\Users\\kuruparans\\AppData\\Local\\conda\\conda\\envs\\cps\\lib\\site-packages\\sklearn\\base.py:306: UserWarning: Trying to unpickle estimator RandomForestRegressor from version 0.21.3 when using version 0.21.2. This might lead to breaking code or invalid results. Use at your own risk.\n",
      "  UserWarning)\n",
      "C:\\Users\\kuruparans\\AppData\\Local\\conda\\conda\\envs\\cps\\lib\\site-packages\\sklearn\\base.py:306: UserWarning: Trying to unpickle estimator DecisionTreeRegressor from version 0.21.3 when using version 0.21.2. This might lead to breaking code or invalid results. Use at your own risk.\n",
      "  UserWarning)\n",
      "C:\\Users\\kuruparans\\AppData\\Local\\conda\\conda\\envs\\cps\\lib\\site-packages\\sklearn\\base.py:306: UserWarning: Trying to unpickle estimator RandomForestRegressor from version 0.21.3 when using version 0.21.2. This might lead to breaking code or invalid results. Use at your own risk.\n",
      "  UserWarning)\n"
     ]
    },
    {
     "name": "stdout",
     "output_type": "stream",
     "text": [
      "1\n"
     ]
    },
    {
     "name": "stderr",
     "output_type": "stream",
     "text": [
      "C:\\Users\\kuruparans\\AppData\\Local\\conda\\conda\\envs\\cps\\lib\\site-packages\\sklearn\\base.py:306: UserWarning: Trying to unpickle estimator DecisionTreeRegressor from version 0.21.3 when using version 0.21.2. This might lead to breaking code or invalid results. Use at your own risk.\n",
      "  UserWarning)\n",
      "C:\\Users\\kuruparans\\AppData\\Local\\conda\\conda\\envs\\cps\\lib\\site-packages\\sklearn\\base.py:306: UserWarning: Trying to unpickle estimator RandomForestRegressor from version 0.21.3 when using version 0.21.2. This might lead to breaking code or invalid results. Use at your own risk.\n",
      "  UserWarning)\n",
      "C:\\Users\\kuruparans\\AppData\\Local\\conda\\conda\\envs\\cps\\lib\\site-packages\\sklearn\\base.py:306: UserWarning: Trying to unpickle estimator DecisionTreeRegressor from version 0.21.3 when using version 0.21.2. This might lead to breaking code or invalid results. Use at your own risk.\n",
      "  UserWarning)\n",
      "C:\\Users\\kuruparans\\AppData\\Local\\conda\\conda\\envs\\cps\\lib\\site-packages\\sklearn\\base.py:306: UserWarning: Trying to unpickle estimator RandomForestRegressor from version 0.21.3 when using version 0.21.2. This might lead to breaking code or invalid results. Use at your own risk.\n",
      "  UserWarning)\n",
      "C:\\Users\\kuruparans\\AppData\\Local\\conda\\conda\\envs\\cps\\lib\\site-packages\\sklearn\\base.py:306: UserWarning: Trying to unpickle estimator DecisionTreeRegressor from version 0.21.3 when using version 0.21.2. This might lead to breaking code or invalid results. Use at your own risk.\n",
      "  UserWarning)\n"
     ]
    },
    {
     "name": "stdout",
     "output_type": "stream",
     "text": [
      "1\n"
     ]
    },
    {
     "name": "stderr",
     "output_type": "stream",
     "text": [
      "C:\\Users\\kuruparans\\AppData\\Local\\conda\\conda\\envs\\cps\\lib\\site-packages\\sklearn\\base.py:306: UserWarning: Trying to unpickle estimator RandomForestRegressor from version 0.21.3 when using version 0.21.2. This might lead to breaking code or invalid results. Use at your own risk.\n",
      "  UserWarning)\n",
      "C:\\Users\\kuruparans\\AppData\\Local\\conda\\conda\\envs\\cps\\lib\\site-packages\\sklearn\\base.py:306: UserWarning: Trying to unpickle estimator DecisionTreeRegressor from version 0.21.3 when using version 0.21.2. This might lead to breaking code or invalid results. Use at your own risk.\n",
      "  UserWarning)\n",
      "C:\\Users\\kuruparans\\AppData\\Local\\conda\\conda\\envs\\cps\\lib\\site-packages\\sklearn\\base.py:306: UserWarning: Trying to unpickle estimator RandomForestRegressor from version 0.21.3 when using version 0.21.2. This might lead to breaking code or invalid results. Use at your own risk.\n",
      "  UserWarning)\n"
     ]
    },
    {
     "name": "stdout",
     "output_type": "stream",
     "text": [
      "1\n"
     ]
    },
    {
     "name": "stderr",
     "output_type": "stream",
     "text": [
      "C:\\Users\\kuruparans\\AppData\\Local\\conda\\conda\\envs\\cps\\lib\\site-packages\\sklearn\\base.py:306: UserWarning: Trying to unpickle estimator DecisionTreeRegressor from version 0.21.3 when using version 0.21.2. This might lead to breaking code or invalid results. Use at your own risk.\n",
      "  UserWarning)\n",
      "C:\\Users\\kuruparans\\AppData\\Local\\conda\\conda\\envs\\cps\\lib\\site-packages\\sklearn\\base.py:306: UserWarning: Trying to unpickle estimator RandomForestRegressor from version 0.21.3 when using version 0.21.2. This might lead to breaking code or invalid results. Use at your own risk.\n",
      "  UserWarning)\n",
      "C:\\Users\\kuruparans\\AppData\\Local\\conda\\conda\\envs\\cps\\lib\\site-packages\\sklearn\\base.py:306: UserWarning: Trying to unpickle estimator DecisionTreeRegressor from version 0.21.3 when using version 0.21.2. This might lead to breaking code or invalid results. Use at your own risk.\n",
      "  UserWarning)\n",
      "C:\\Users\\kuruparans\\AppData\\Local\\conda\\conda\\envs\\cps\\lib\\site-packages\\sklearn\\base.py:306: UserWarning: Trying to unpickle estimator RandomForestRegressor from version 0.21.3 when using version 0.21.2. This might lead to breaking code or invalid results. Use at your own risk.\n",
      "  UserWarning)\n"
     ]
    },
    {
     "name": "stdout",
     "output_type": "stream",
     "text": [
      "1\n"
     ]
    },
    {
     "name": "stderr",
     "output_type": "stream",
     "text": [
      "C:\\Users\\kuruparans\\AppData\\Local\\conda\\conda\\envs\\cps\\lib\\site-packages\\sklearn\\base.py:306: UserWarning: Trying to unpickle estimator DecisionTreeRegressor from version 0.21.3 when using version 0.21.2. This might lead to breaking code or invalid results. Use at your own risk.\n",
      "  UserWarning)\n",
      "C:\\Users\\kuruparans\\AppData\\Local\\conda\\conda\\envs\\cps\\lib\\site-packages\\sklearn\\base.py:306: UserWarning: Trying to unpickle estimator RandomForestRegressor from version 0.21.3 when using version 0.21.2. This might lead to breaking code or invalid results. Use at your own risk.\n",
      "  UserWarning)\n",
      "C:\\Users\\kuruparans\\AppData\\Local\\conda\\conda\\envs\\cps\\lib\\site-packages\\sklearn\\base.py:306: UserWarning: Trying to unpickle estimator DecisionTreeRegressor from version 0.21.3 when using version 0.21.2. This might lead to breaking code or invalid results. Use at your own risk.\n",
      "  UserWarning)\n",
      "C:\\Users\\kuruparans\\AppData\\Local\\conda\\conda\\envs\\cps\\lib\\site-packages\\sklearn\\base.py:306: UserWarning: Trying to unpickle estimator RandomForestRegressor from version 0.21.3 when using version 0.21.2. This might lead to breaking code or invalid results. Use at your own risk.\n",
      "  UserWarning)\n"
     ]
    },
    {
     "name": "stdout",
     "output_type": "stream",
     "text": [
      "1\n"
     ]
    },
    {
     "name": "stderr",
     "output_type": "stream",
     "text": [
      "C:\\Users\\kuruparans\\AppData\\Local\\conda\\conda\\envs\\cps\\lib\\site-packages\\sklearn\\base.py:306: UserWarning: Trying to unpickle estimator DecisionTreeRegressor from version 0.21.3 when using version 0.21.2. This might lead to breaking code or invalid results. Use at your own risk.\n",
      "  UserWarning)\n",
      "C:\\Users\\kuruparans\\AppData\\Local\\conda\\conda\\envs\\cps\\lib\\site-packages\\sklearn\\base.py:306: UserWarning: Trying to unpickle estimator RandomForestRegressor from version 0.21.3 when using version 0.21.2. This might lead to breaking code or invalid results. Use at your own risk.\n",
      "  UserWarning)\n",
      "C:\\Users\\kuruparans\\AppData\\Local\\conda\\conda\\envs\\cps\\lib\\site-packages\\sklearn\\base.py:306: UserWarning: Trying to unpickle estimator DecisionTreeRegressor from version 0.21.3 when using version 0.21.2. This might lead to breaking code or invalid results. Use at your own risk.\n",
      "  UserWarning)\n",
      "C:\\Users\\kuruparans\\AppData\\Local\\conda\\conda\\envs\\cps\\lib\\site-packages\\sklearn\\base.py:306: UserWarning: Trying to unpickle estimator RandomForestRegressor from version 0.21.3 when using version 0.21.2. This might lead to breaking code or invalid results. Use at your own risk.\n",
      "  UserWarning)\n"
     ]
    },
    {
     "name": "stdout",
     "output_type": "stream",
     "text": [
      "1\n"
     ]
    },
    {
     "name": "stderr",
     "output_type": "stream",
     "text": [
      "C:\\Users\\kuruparans\\AppData\\Local\\conda\\conda\\envs\\cps\\lib\\site-packages\\sklearn\\base.py:306: UserWarning: Trying to unpickle estimator DecisionTreeRegressor from version 0.21.3 when using version 0.21.2. This might lead to breaking code or invalid results. Use at your own risk.\n",
      "  UserWarning)\n",
      "C:\\Users\\kuruparans\\AppData\\Local\\conda\\conda\\envs\\cps\\lib\\site-packages\\sklearn\\base.py:306: UserWarning: Trying to unpickle estimator RandomForestRegressor from version 0.21.3 when using version 0.21.2. This might lead to breaking code or invalid results. Use at your own risk.\n",
      "  UserWarning)\n",
      "C:\\Users\\kuruparans\\AppData\\Local\\conda\\conda\\envs\\cps\\lib\\site-packages\\sklearn\\base.py:306: UserWarning: Trying to unpickle estimator DecisionTreeRegressor from version 0.21.3 when using version 0.21.2. This might lead to breaking code or invalid results. Use at your own risk.\n",
      "  UserWarning)\n",
      "C:\\Users\\kuruparans\\AppData\\Local\\conda\\conda\\envs\\cps\\lib\\site-packages\\sklearn\\base.py:306: UserWarning: Trying to unpickle estimator RandomForestRegressor from version 0.21.3 when using version 0.21.2. This might lead to breaking code or invalid results. Use at your own risk.\n",
      "  UserWarning)\n"
     ]
    },
    {
     "name": "stdout",
     "output_type": "stream",
     "text": [
      "1\n"
     ]
    },
    {
     "name": "stderr",
     "output_type": "stream",
     "text": [
      "C:\\Users\\kuruparans\\AppData\\Local\\conda\\conda\\envs\\cps\\lib\\site-packages\\sklearn\\base.py:306: UserWarning: Trying to unpickle estimator DecisionTreeRegressor from version 0.21.3 when using version 0.21.2. This might lead to breaking code or invalid results. Use at your own risk.\n",
      "  UserWarning)\n",
      "C:\\Users\\kuruparans\\AppData\\Local\\conda\\conda\\envs\\cps\\lib\\site-packages\\sklearn\\base.py:306: UserWarning: Trying to unpickle estimator RandomForestRegressor from version 0.21.3 when using version 0.21.2. This might lead to breaking code or invalid results. Use at your own risk.\n",
      "  UserWarning)\n",
      "C:\\Users\\kuruparans\\AppData\\Local\\conda\\conda\\envs\\cps\\lib\\site-packages\\sklearn\\base.py:306: UserWarning: Trying to unpickle estimator DecisionTreeRegressor from version 0.21.3 when using version 0.21.2. This might lead to breaking code or invalid results. Use at your own risk.\n",
      "  UserWarning)\n",
      "C:\\Users\\kuruparans\\AppData\\Local\\conda\\conda\\envs\\cps\\lib\\site-packages\\sklearn\\base.py:306: UserWarning: Trying to unpickle estimator RandomForestRegressor from version 0.21.3 when using version 0.21.2. This might lead to breaking code or invalid results. Use at your own risk.\n",
      "  UserWarning)\n"
     ]
    },
    {
     "name": "stdout",
     "output_type": "stream",
     "text": [
      "1\n"
     ]
    },
    {
     "name": "stderr",
     "output_type": "stream",
     "text": [
      "C:\\Users\\kuruparans\\AppData\\Local\\conda\\conda\\envs\\cps\\lib\\site-packages\\sklearn\\base.py:306: UserWarning: Trying to unpickle estimator DecisionTreeRegressor from version 0.21.3 when using version 0.21.2. This might lead to breaking code or invalid results. Use at your own risk.\n",
      "  UserWarning)\n",
      "C:\\Users\\kuruparans\\AppData\\Local\\conda\\conda\\envs\\cps\\lib\\site-packages\\sklearn\\base.py:306: UserWarning: Trying to unpickle estimator RandomForestRegressor from version 0.21.3 when using version 0.21.2. This might lead to breaking code or invalid results. Use at your own risk.\n",
      "  UserWarning)\n",
      "C:\\Users\\kuruparans\\AppData\\Local\\conda\\conda\\envs\\cps\\lib\\site-packages\\sklearn\\base.py:306: UserWarning: Trying to unpickle estimator DecisionTreeRegressor from version 0.21.3 when using version 0.21.2. This might lead to breaking code or invalid results. Use at your own risk.\n",
      "  UserWarning)\n",
      "C:\\Users\\kuruparans\\AppData\\Local\\conda\\conda\\envs\\cps\\lib\\site-packages\\sklearn\\base.py:306: UserWarning: Trying to unpickle estimator RandomForestRegressor from version 0.21.3 when using version 0.21.2. This might lead to breaking code or invalid results. Use at your own risk.\n",
      "  UserWarning)\n",
      "C:\\Users\\kuruparans\\AppData\\Local\\conda\\conda\\envs\\cps\\lib\\site-packages\\sklearn\\base.py:306: UserWarning: Trying to unpickle estimator DecisionTreeRegressor from version 0.21.3 when using version 0.21.2. This might lead to breaking code or invalid results. Use at your own risk.\n",
      "  UserWarning)\n"
     ]
    },
    {
     "name": "stdout",
     "output_type": "stream",
     "text": [
      "1\n"
     ]
    },
    {
     "name": "stderr",
     "output_type": "stream",
     "text": [
      "C:\\Users\\kuruparans\\AppData\\Local\\conda\\conda\\envs\\cps\\lib\\site-packages\\sklearn\\base.py:306: UserWarning: Trying to unpickle estimator RandomForestRegressor from version 0.21.3 when using version 0.21.2. This might lead to breaking code or invalid results. Use at your own risk.\n",
      "  UserWarning)\n",
      "C:\\Users\\kuruparans\\AppData\\Local\\conda\\conda\\envs\\cps\\lib\\site-packages\\sklearn\\base.py:306: UserWarning: Trying to unpickle estimator DecisionTreeRegressor from version 0.21.3 when using version 0.21.2. This might lead to breaking code or invalid results. Use at your own risk.\n",
      "  UserWarning)\n",
      "C:\\Users\\kuruparans\\AppData\\Local\\conda\\conda\\envs\\cps\\lib\\site-packages\\sklearn\\base.py:306: UserWarning: Trying to unpickle estimator RandomForestRegressor from version 0.21.3 when using version 0.21.2. This might lead to breaking code or invalid results. Use at your own risk.\n",
      "  UserWarning)\n",
      "C:\\Users\\kuruparans\\AppData\\Local\\conda\\conda\\envs\\cps\\lib\\site-packages\\sklearn\\base.py:306: UserWarning: Trying to unpickle estimator DecisionTreeRegressor from version 0.21.3 when using version 0.21.2. This might lead to breaking code or invalid results. Use at your own risk.\n",
      "  UserWarning)\n"
     ]
    },
    {
     "name": "stdout",
     "output_type": "stream",
     "text": [
      "1\n"
     ]
    },
    {
     "name": "stderr",
     "output_type": "stream",
     "text": [
      "C:\\Users\\kuruparans\\AppData\\Local\\conda\\conda\\envs\\cps\\lib\\site-packages\\sklearn\\base.py:306: UserWarning: Trying to unpickle estimator RandomForestRegressor from version 0.21.3 when using version 0.21.2. This might lead to breaking code or invalid results. Use at your own risk.\n",
      "  UserWarning)\n",
      "C:\\Users\\kuruparans\\AppData\\Local\\conda\\conda\\envs\\cps\\lib\\site-packages\\sklearn\\base.py:306: UserWarning: Trying to unpickle estimator DecisionTreeRegressor from version 0.21.3 when using version 0.21.2. This might lead to breaking code or invalid results. Use at your own risk.\n",
      "  UserWarning)\n",
      "C:\\Users\\kuruparans\\AppData\\Local\\conda\\conda\\envs\\cps\\lib\\site-packages\\sklearn\\base.py:306: UserWarning: Trying to unpickle estimator RandomForestRegressor from version 0.21.3 when using version 0.21.2. This might lead to breaking code or invalid results. Use at your own risk.\n",
      "  UserWarning)\n",
      "C:\\Users\\kuruparans\\AppData\\Local\\conda\\conda\\envs\\cps\\lib\\site-packages\\sklearn\\base.py:306: UserWarning: Trying to unpickle estimator DecisionTreeRegressor from version 0.21.3 when using version 0.21.2. This might lead to breaking code or invalid results. Use at your own risk.\n",
      "  UserWarning)\n"
     ]
    },
    {
     "name": "stdout",
     "output_type": "stream",
     "text": [
      "1\n"
     ]
    },
    {
     "name": "stderr",
     "output_type": "stream",
     "text": [
      "C:\\Users\\kuruparans\\AppData\\Local\\conda\\conda\\envs\\cps\\lib\\site-packages\\sklearn\\base.py:306: UserWarning: Trying to unpickle estimator RandomForestRegressor from version 0.21.3 when using version 0.21.2. This might lead to breaking code or invalid results. Use at your own risk.\n",
      "  UserWarning)\n",
      "C:\\Users\\kuruparans\\AppData\\Local\\conda\\conda\\envs\\cps\\lib\\site-packages\\sklearn\\base.py:306: UserWarning: Trying to unpickle estimator DecisionTreeRegressor from version 0.21.3 when using version 0.21.2. This might lead to breaking code or invalid results. Use at your own risk.\n",
      "  UserWarning)\n",
      "C:\\Users\\kuruparans\\AppData\\Local\\conda\\conda\\envs\\cps\\lib\\site-packages\\sklearn\\base.py:306: UserWarning: Trying to unpickle estimator RandomForestRegressor from version 0.21.3 when using version 0.21.2. This might lead to breaking code or invalid results. Use at your own risk.\n",
      "  UserWarning)\n"
     ]
    },
    {
     "name": "stdout",
     "output_type": "stream",
     "text": [
      "1\n"
     ]
    },
    {
     "name": "stderr",
     "output_type": "stream",
     "text": [
      "C:\\Users\\kuruparans\\AppData\\Local\\conda\\conda\\envs\\cps\\lib\\site-packages\\sklearn\\base.py:306: UserWarning: Trying to unpickle estimator DecisionTreeRegressor from version 0.21.3 when using version 0.21.2. This might lead to breaking code or invalid results. Use at your own risk.\n",
      "  UserWarning)\n",
      "C:\\Users\\kuruparans\\AppData\\Local\\conda\\conda\\envs\\cps\\lib\\site-packages\\sklearn\\base.py:306: UserWarning: Trying to unpickle estimator RandomForestRegressor from version 0.21.3 when using version 0.21.2. This might lead to breaking code or invalid results. Use at your own risk.\n",
      "  UserWarning)\n",
      "C:\\Users\\kuruparans\\AppData\\Local\\conda\\conda\\envs\\cps\\lib\\site-packages\\sklearn\\base.py:306: UserWarning: Trying to unpickle estimator DecisionTreeRegressor from version 0.21.3 when using version 0.21.2. This might lead to breaking code or invalid results. Use at your own risk.\n",
      "  UserWarning)\n",
      "C:\\Users\\kuruparans\\AppData\\Local\\conda\\conda\\envs\\cps\\lib\\site-packages\\sklearn\\base.py:306: UserWarning: Trying to unpickle estimator RandomForestRegressor from version 0.21.3 when using version 0.21.2. This might lead to breaking code or invalid results. Use at your own risk.\n",
      "  UserWarning)\n"
     ]
    },
    {
     "name": "stdout",
     "output_type": "stream",
     "text": [
      "1\n"
     ]
    },
    {
     "name": "stderr",
     "output_type": "stream",
     "text": [
      "C:\\Users\\kuruparans\\AppData\\Local\\conda\\conda\\envs\\cps\\lib\\site-packages\\sklearn\\base.py:306: UserWarning: Trying to unpickle estimator DecisionTreeRegressor from version 0.21.3 when using version 0.21.2. This might lead to breaking code or invalid results. Use at your own risk.\n",
      "  UserWarning)\n",
      "C:\\Users\\kuruparans\\AppData\\Local\\conda\\conda\\envs\\cps\\lib\\site-packages\\sklearn\\base.py:306: UserWarning: Trying to unpickle estimator RandomForestRegressor from version 0.21.3 when using version 0.21.2. This might lead to breaking code or invalid results. Use at your own risk.\n",
      "  UserWarning)\n",
      "C:\\Users\\kuruparans\\AppData\\Local\\conda\\conda\\envs\\cps\\lib\\site-packages\\sklearn\\base.py:306: UserWarning: Trying to unpickle estimator DecisionTreeRegressor from version 0.21.3 when using version 0.21.2. This might lead to breaking code or invalid results. Use at your own risk.\n",
      "  UserWarning)\n",
      "C:\\Users\\kuruparans\\AppData\\Local\\conda\\conda\\envs\\cps\\lib\\site-packages\\sklearn\\base.py:306: UserWarning: Trying to unpickle estimator RandomForestRegressor from version 0.21.3 when using version 0.21.2. This might lead to breaking code or invalid results. Use at your own risk.\n",
      "  UserWarning)\n"
     ]
    },
    {
     "name": "stdout",
     "output_type": "stream",
     "text": [
      "1\n"
     ]
    },
    {
     "name": "stderr",
     "output_type": "stream",
     "text": [
      "C:\\Users\\kuruparans\\AppData\\Local\\conda\\conda\\envs\\cps\\lib\\site-packages\\sklearn\\base.py:306: UserWarning: Trying to unpickle estimator DecisionTreeRegressor from version 0.21.3 when using version 0.21.2. This might lead to breaking code or invalid results. Use at your own risk.\n",
      "  UserWarning)\n",
      "C:\\Users\\kuruparans\\AppData\\Local\\conda\\conda\\envs\\cps\\lib\\site-packages\\sklearn\\base.py:306: UserWarning: Trying to unpickle estimator RandomForestRegressor from version 0.21.3 when using version 0.21.2. This might lead to breaking code or invalid results. Use at your own risk.\n",
      "  UserWarning)\n",
      "C:\\Users\\kuruparans\\AppData\\Local\\conda\\conda\\envs\\cps\\lib\\site-packages\\sklearn\\base.py:306: UserWarning: Trying to unpickle estimator DecisionTreeRegressor from version 0.21.3 when using version 0.21.2. This might lead to breaking code or invalid results. Use at your own risk.\n",
      "  UserWarning)\n",
      "C:\\Users\\kuruparans\\AppData\\Local\\conda\\conda\\envs\\cps\\lib\\site-packages\\sklearn\\base.py:306: UserWarning: Trying to unpickle estimator RandomForestRegressor from version 0.21.3 when using version 0.21.2. This might lead to breaking code or invalid results. Use at your own risk.\n",
      "  UserWarning)\n"
     ]
    },
    {
     "name": "stdout",
     "output_type": "stream",
     "text": [
      "1\n"
     ]
    },
    {
     "name": "stderr",
     "output_type": "stream",
     "text": [
      "C:\\Users\\kuruparans\\AppData\\Local\\conda\\conda\\envs\\cps\\lib\\site-packages\\sklearn\\base.py:306: UserWarning: Trying to unpickle estimator DecisionTreeRegressor from version 0.21.3 when using version 0.21.2. This might lead to breaking code or invalid results. Use at your own risk.\n",
      "  UserWarning)\n",
      "C:\\Users\\kuruparans\\AppData\\Local\\conda\\conda\\envs\\cps\\lib\\site-packages\\sklearn\\base.py:306: UserWarning: Trying to unpickle estimator RandomForestRegressor from version 0.21.3 when using version 0.21.2. This might lead to breaking code or invalid results. Use at your own risk.\n",
      "  UserWarning)\n",
      "C:\\Users\\kuruparans\\AppData\\Local\\conda\\conda\\envs\\cps\\lib\\site-packages\\sklearn\\base.py:306: UserWarning: Trying to unpickle estimator DecisionTreeRegressor from version 0.21.3 when using version 0.21.2. This might lead to breaking code or invalid results. Use at your own risk.\n",
      "  UserWarning)\n",
      "C:\\Users\\kuruparans\\AppData\\Local\\conda\\conda\\envs\\cps\\lib\\site-packages\\sklearn\\base.py:306: UserWarning: Trying to unpickle estimator RandomForestRegressor from version 0.21.3 when using version 0.21.2. This might lead to breaking code or invalid results. Use at your own risk.\n",
      "  UserWarning)\n"
     ]
    },
    {
     "name": "stdout",
     "output_type": "stream",
     "text": [
      "1\n"
     ]
    },
    {
     "name": "stderr",
     "output_type": "stream",
     "text": [
      "C:\\Users\\kuruparans\\AppData\\Local\\conda\\conda\\envs\\cps\\lib\\site-packages\\sklearn\\base.py:306: UserWarning: Trying to unpickle estimator DecisionTreeRegressor from version 0.21.3 when using version 0.21.2. This might lead to breaking code or invalid results. Use at your own risk.\n",
      "  UserWarning)\n",
      "C:\\Users\\kuruparans\\AppData\\Local\\conda\\conda\\envs\\cps\\lib\\site-packages\\sklearn\\base.py:306: UserWarning: Trying to unpickle estimator RandomForestRegressor from version 0.21.3 when using version 0.21.2. This might lead to breaking code or invalid results. Use at your own risk.\n",
      "  UserWarning)\n",
      "C:\\Users\\kuruparans\\AppData\\Local\\conda\\conda\\envs\\cps\\lib\\site-packages\\sklearn\\base.py:306: UserWarning: Trying to unpickle estimator DecisionTreeRegressor from version 0.21.3 when using version 0.21.2. This might lead to breaking code or invalid results. Use at your own risk.\n",
      "  UserWarning)\n",
      "C:\\Users\\kuruparans\\AppData\\Local\\conda\\conda\\envs\\cps\\lib\\site-packages\\sklearn\\base.py:306: UserWarning: Trying to unpickle estimator RandomForestRegressor from version 0.21.3 when using version 0.21.2. This might lead to breaking code or invalid results. Use at your own risk.\n",
      "  UserWarning)\n"
     ]
    },
    {
     "name": "stdout",
     "output_type": "stream",
     "text": [
      "1\n"
     ]
    },
    {
     "name": "stderr",
     "output_type": "stream",
     "text": [
      "C:\\Users\\kuruparans\\AppData\\Local\\conda\\conda\\envs\\cps\\lib\\site-packages\\sklearn\\base.py:306: UserWarning: Trying to unpickle estimator DecisionTreeRegressor from version 0.21.3 when using version 0.21.2. This might lead to breaking code or invalid results. Use at your own risk.\n",
      "  UserWarning)\n",
      "C:\\Users\\kuruparans\\AppData\\Local\\conda\\conda\\envs\\cps\\lib\\site-packages\\sklearn\\base.py:306: UserWarning: Trying to unpickle estimator RandomForestRegressor from version 0.21.3 when using version 0.21.2. This might lead to breaking code or invalid results. Use at your own risk.\n",
      "  UserWarning)\n",
      "C:\\Users\\kuruparans\\AppData\\Local\\conda\\conda\\envs\\cps\\lib\\site-packages\\sklearn\\base.py:306: UserWarning: Trying to unpickle estimator DecisionTreeRegressor from version 0.21.3 when using version 0.21.2. This might lead to breaking code or invalid results. Use at your own risk.\n",
      "  UserWarning)\n",
      "C:\\Users\\kuruparans\\AppData\\Local\\conda\\conda\\envs\\cps\\lib\\site-packages\\sklearn\\base.py:306: UserWarning: Trying to unpickle estimator RandomForestRegressor from version 0.21.3 when using version 0.21.2. This might lead to breaking code or invalid results. Use at your own risk.\n",
      "  UserWarning)\n"
     ]
    },
    {
     "name": "stdout",
     "output_type": "stream",
     "text": [
      "1\n"
     ]
    },
    {
     "name": "stderr",
     "output_type": "stream",
     "text": [
      "C:\\Users\\kuruparans\\AppData\\Local\\conda\\conda\\envs\\cps\\lib\\site-packages\\sklearn\\base.py:306: UserWarning: Trying to unpickle estimator DecisionTreeRegressor from version 0.21.3 when using version 0.21.2. This might lead to breaking code or invalid results. Use at your own risk.\n",
      "  UserWarning)\n",
      "C:\\Users\\kuruparans\\AppData\\Local\\conda\\conda\\envs\\cps\\lib\\site-packages\\sklearn\\base.py:306: UserWarning: Trying to unpickle estimator RandomForestRegressor from version 0.21.3 when using version 0.21.2. This might lead to breaking code or invalid results. Use at your own risk.\n",
      "  UserWarning)\n",
      "C:\\Users\\kuruparans\\AppData\\Local\\conda\\conda\\envs\\cps\\lib\\site-packages\\sklearn\\base.py:306: UserWarning: Trying to unpickle estimator DecisionTreeRegressor from version 0.21.3 when using version 0.21.2. This might lead to breaking code or invalid results. Use at your own risk.\n",
      "  UserWarning)\n",
      "C:\\Users\\kuruparans\\AppData\\Local\\conda\\conda\\envs\\cps\\lib\\site-packages\\sklearn\\base.py:306: UserWarning: Trying to unpickle estimator RandomForestRegressor from version 0.21.3 when using version 0.21.2. This might lead to breaking code or invalid results. Use at your own risk.\n",
      "  UserWarning)\n"
     ]
    },
    {
     "name": "stdout",
     "output_type": "stream",
     "text": [
      "1\n"
     ]
    },
    {
     "name": "stderr",
     "output_type": "stream",
     "text": [
      "C:\\Users\\kuruparans\\AppData\\Local\\conda\\conda\\envs\\cps\\lib\\site-packages\\sklearn\\base.py:306: UserWarning: Trying to unpickle estimator DecisionTreeRegressor from version 0.21.3 when using version 0.21.2. This might lead to breaking code or invalid results. Use at your own risk.\n",
      "  UserWarning)\n",
      "C:\\Users\\kuruparans\\AppData\\Local\\conda\\conda\\envs\\cps\\lib\\site-packages\\sklearn\\base.py:306: UserWarning: Trying to unpickle estimator RandomForestRegressor from version 0.21.3 when using version 0.21.2. This might lead to breaking code or invalid results. Use at your own risk.\n",
      "  UserWarning)\n",
      "C:\\Users\\kuruparans\\AppData\\Local\\conda\\conda\\envs\\cps\\lib\\site-packages\\sklearn\\base.py:306: UserWarning: Trying to unpickle estimator DecisionTreeRegressor from version 0.21.3 when using version 0.21.2. This might lead to breaking code or invalid results. Use at your own risk.\n",
      "  UserWarning)\n",
      "C:\\Users\\kuruparans\\AppData\\Local\\conda\\conda\\envs\\cps\\lib\\site-packages\\sklearn\\base.py:306: UserWarning: Trying to unpickle estimator RandomForestRegressor from version 0.21.3 when using version 0.21.2. This might lead to breaking code or invalid results. Use at your own risk.\n",
      "  UserWarning)\n"
     ]
    },
    {
     "name": "stdout",
     "output_type": "stream",
     "text": [
      "1\n"
     ]
    },
    {
     "name": "stderr",
     "output_type": "stream",
     "text": [
      "C:\\Users\\kuruparans\\AppData\\Local\\conda\\conda\\envs\\cps\\lib\\site-packages\\sklearn\\base.py:306: UserWarning: Trying to unpickle estimator DecisionTreeRegressor from version 0.21.3 when using version 0.21.2. This might lead to breaking code or invalid results. Use at your own risk.\n",
      "  UserWarning)\n",
      "C:\\Users\\kuruparans\\AppData\\Local\\conda\\conda\\envs\\cps\\lib\\site-packages\\sklearn\\base.py:306: UserWarning: Trying to unpickle estimator RandomForestRegressor from version 0.21.3 when using version 0.21.2. This might lead to breaking code or invalid results. Use at your own risk.\n",
      "  UserWarning)\n",
      "C:\\Users\\kuruparans\\AppData\\Local\\conda\\conda\\envs\\cps\\lib\\site-packages\\sklearn\\base.py:306: UserWarning: Trying to unpickle estimator DecisionTreeRegressor from version 0.21.3 when using version 0.21.2. This might lead to breaking code or invalid results. Use at your own risk.\n",
      "  UserWarning)\n",
      "C:\\Users\\kuruparans\\AppData\\Local\\conda\\conda\\envs\\cps\\lib\\site-packages\\sklearn\\base.py:306: UserWarning: Trying to unpickle estimator RandomForestRegressor from version 0.21.3 when using version 0.21.2. This might lead to breaking code or invalid results. Use at your own risk.\n",
      "  UserWarning)\n"
     ]
    },
    {
     "name": "stdout",
     "output_type": "stream",
     "text": [
      "1\n"
     ]
    },
    {
     "name": "stderr",
     "output_type": "stream",
     "text": [
      "C:\\Users\\kuruparans\\AppData\\Local\\conda\\conda\\envs\\cps\\lib\\site-packages\\sklearn\\base.py:306: UserWarning: Trying to unpickle estimator DecisionTreeRegressor from version 0.21.3 when using version 0.21.2. This might lead to breaking code or invalid results. Use at your own risk.\n",
      "  UserWarning)\n",
      "C:\\Users\\kuruparans\\AppData\\Local\\conda\\conda\\envs\\cps\\lib\\site-packages\\sklearn\\base.py:306: UserWarning: Trying to unpickle estimator RandomForestRegressor from version 0.21.3 when using version 0.21.2. This might lead to breaking code or invalid results. Use at your own risk.\n",
      "  UserWarning)\n",
      "C:\\Users\\kuruparans\\AppData\\Local\\conda\\conda\\envs\\cps\\lib\\site-packages\\sklearn\\base.py:306: UserWarning: Trying to unpickle estimator DecisionTreeRegressor from version 0.21.3 when using version 0.21.2. This might lead to breaking code or invalid results. Use at your own risk.\n",
      "  UserWarning)\n",
      "C:\\Users\\kuruparans\\AppData\\Local\\conda\\conda\\envs\\cps\\lib\\site-packages\\sklearn\\base.py:306: UserWarning: Trying to unpickle estimator RandomForestRegressor from version 0.21.3 when using version 0.21.2. This might lead to breaking code or invalid results. Use at your own risk.\n",
      "  UserWarning)\n"
     ]
    },
    {
     "name": "stdout",
     "output_type": "stream",
     "text": [
      "1\n"
     ]
    },
    {
     "name": "stderr",
     "output_type": "stream",
     "text": [
      "C:\\Users\\kuruparans\\AppData\\Local\\conda\\conda\\envs\\cps\\lib\\site-packages\\sklearn\\base.py:306: UserWarning: Trying to unpickle estimator DecisionTreeRegressor from version 0.21.3 when using version 0.21.2. This might lead to breaking code or invalid results. Use at your own risk.\n",
      "  UserWarning)\n",
      "C:\\Users\\kuruparans\\AppData\\Local\\conda\\conda\\envs\\cps\\lib\\site-packages\\sklearn\\base.py:306: UserWarning: Trying to unpickle estimator RandomForestRegressor from version 0.21.3 when using version 0.21.2. This might lead to breaking code or invalid results. Use at your own risk.\n",
      "  UserWarning)\n",
      "C:\\Users\\kuruparans\\AppData\\Local\\conda\\conda\\envs\\cps\\lib\\site-packages\\sklearn\\base.py:306: UserWarning: Trying to unpickle estimator DecisionTreeRegressor from version 0.21.3 when using version 0.21.2. This might lead to breaking code or invalid results. Use at your own risk.\n",
      "  UserWarning)\n",
      "C:\\Users\\kuruparans\\AppData\\Local\\conda\\conda\\envs\\cps\\lib\\site-packages\\sklearn\\base.py:306: UserWarning: Trying to unpickle estimator RandomForestRegressor from version 0.21.3 when using version 0.21.2. This might lead to breaking code or invalid results. Use at your own risk.\n",
      "  UserWarning)\n"
     ]
    },
    {
     "name": "stdout",
     "output_type": "stream",
     "text": [
      "1\n"
     ]
    },
    {
     "name": "stderr",
     "output_type": "stream",
     "text": [
      "C:\\Users\\kuruparans\\AppData\\Local\\conda\\conda\\envs\\cps\\lib\\site-packages\\sklearn\\base.py:306: UserWarning: Trying to unpickle estimator DecisionTreeRegressor from version 0.21.3 when using version 0.21.2. This might lead to breaking code or invalid results. Use at your own risk.\n",
      "  UserWarning)\n",
      "C:\\Users\\kuruparans\\AppData\\Local\\conda\\conda\\envs\\cps\\lib\\site-packages\\sklearn\\base.py:306: UserWarning: Trying to unpickle estimator RandomForestRegressor from version 0.21.3 when using version 0.21.2. This might lead to breaking code or invalid results. Use at your own risk.\n",
      "  UserWarning)\n",
      "C:\\Users\\kuruparans\\AppData\\Local\\conda\\conda\\envs\\cps\\lib\\site-packages\\sklearn\\base.py:306: UserWarning: Trying to unpickle estimator DecisionTreeRegressor from version 0.21.3 when using version 0.21.2. This might lead to breaking code or invalid results. Use at your own risk.\n",
      "  UserWarning)\n",
      "C:\\Users\\kuruparans\\AppData\\Local\\conda\\conda\\envs\\cps\\lib\\site-packages\\sklearn\\base.py:306: UserWarning: Trying to unpickle estimator RandomForestRegressor from version 0.21.3 when using version 0.21.2. This might lead to breaking code or invalid results. Use at your own risk.\n",
      "  UserWarning)\n"
     ]
    },
    {
     "name": "stdout",
     "output_type": "stream",
     "text": [
      "1\n"
     ]
    },
    {
     "name": "stderr",
     "output_type": "stream",
     "text": [
      "C:\\Users\\kuruparans\\AppData\\Local\\conda\\conda\\envs\\cps\\lib\\site-packages\\sklearn\\base.py:306: UserWarning: Trying to unpickle estimator DecisionTreeRegressor from version 0.21.3 when using version 0.21.2. This might lead to breaking code or invalid results. Use at your own risk.\n",
      "  UserWarning)\n",
      "C:\\Users\\kuruparans\\AppData\\Local\\conda\\conda\\envs\\cps\\lib\\site-packages\\sklearn\\base.py:306: UserWarning: Trying to unpickle estimator RandomForestRegressor from version 0.21.3 when using version 0.21.2. This might lead to breaking code or invalid results. Use at your own risk.\n",
      "  UserWarning)\n",
      "C:\\Users\\kuruparans\\AppData\\Local\\conda\\conda\\envs\\cps\\lib\\site-packages\\sklearn\\base.py:306: UserWarning: Trying to unpickle estimator DecisionTreeRegressor from version 0.21.3 when using version 0.21.2. This might lead to breaking code or invalid results. Use at your own risk.\n",
      "  UserWarning)\n",
      "C:\\Users\\kuruparans\\AppData\\Local\\conda\\conda\\envs\\cps\\lib\\site-packages\\sklearn\\base.py:306: UserWarning: Trying to unpickle estimator RandomForestRegressor from version 0.21.3 when using version 0.21.2. This might lead to breaking code or invalid results. Use at your own risk.\n",
      "  UserWarning)\n"
     ]
    },
    {
     "name": "stdout",
     "output_type": "stream",
     "text": [
      "1\n"
     ]
    },
    {
     "name": "stderr",
     "output_type": "stream",
     "text": [
      "C:\\Users\\kuruparans\\AppData\\Local\\conda\\conda\\envs\\cps\\lib\\site-packages\\sklearn\\base.py:306: UserWarning: Trying to unpickle estimator DecisionTreeRegressor from version 0.21.3 when using version 0.21.2. This might lead to breaking code or invalid results. Use at your own risk.\n",
      "  UserWarning)\n",
      "C:\\Users\\kuruparans\\AppData\\Local\\conda\\conda\\envs\\cps\\lib\\site-packages\\sklearn\\base.py:306: UserWarning: Trying to unpickle estimator RandomForestRegressor from version 0.21.3 when using version 0.21.2. This might lead to breaking code or invalid results. Use at your own risk.\n",
      "  UserWarning)\n",
      "C:\\Users\\kuruparans\\AppData\\Local\\conda\\conda\\envs\\cps\\lib\\site-packages\\sklearn\\base.py:306: UserWarning: Trying to unpickle estimator DecisionTreeRegressor from version 0.21.3 when using version 0.21.2. This might lead to breaking code or invalid results. Use at your own risk.\n",
      "  UserWarning)\n",
      "C:\\Users\\kuruparans\\AppData\\Local\\conda\\conda\\envs\\cps\\lib\\site-packages\\sklearn\\base.py:306: UserWarning: Trying to unpickle estimator RandomForestRegressor from version 0.21.3 when using version 0.21.2. This might lead to breaking code or invalid results. Use at your own risk.\n",
      "  UserWarning)\n"
     ]
    },
    {
     "name": "stdout",
     "output_type": "stream",
     "text": [
      "1\n"
     ]
    },
    {
     "name": "stderr",
     "output_type": "stream",
     "text": [
      "C:\\Users\\kuruparans\\AppData\\Local\\conda\\conda\\envs\\cps\\lib\\site-packages\\sklearn\\base.py:306: UserWarning: Trying to unpickle estimator DecisionTreeRegressor from version 0.21.3 when using version 0.21.2. This might lead to breaking code or invalid results. Use at your own risk.\n",
      "  UserWarning)\n",
      "C:\\Users\\kuruparans\\AppData\\Local\\conda\\conda\\envs\\cps\\lib\\site-packages\\sklearn\\base.py:306: UserWarning: Trying to unpickle estimator RandomForestRegressor from version 0.21.3 when using version 0.21.2. This might lead to breaking code or invalid results. Use at your own risk.\n",
      "  UserWarning)\n",
      "C:\\Users\\kuruparans\\AppData\\Local\\conda\\conda\\envs\\cps\\lib\\site-packages\\sklearn\\base.py:306: UserWarning: Trying to unpickle estimator DecisionTreeRegressor from version 0.21.3 when using version 0.21.2. This might lead to breaking code or invalid results. Use at your own risk.\n",
      "  UserWarning)\n",
      "C:\\Users\\kuruparans\\AppData\\Local\\conda\\conda\\envs\\cps\\lib\\site-packages\\sklearn\\base.py:306: UserWarning: Trying to unpickle estimator RandomForestRegressor from version 0.21.3 when using version 0.21.2. This might lead to breaking code or invalid results. Use at your own risk.\n",
      "  UserWarning)\n"
     ]
    },
    {
     "name": "stdout",
     "output_type": "stream",
     "text": [
      "1\n"
     ]
    },
    {
     "name": "stderr",
     "output_type": "stream",
     "text": [
      "C:\\Users\\kuruparans\\AppData\\Local\\conda\\conda\\envs\\cps\\lib\\site-packages\\sklearn\\base.py:306: UserWarning: Trying to unpickle estimator DecisionTreeRegressor from version 0.21.3 when using version 0.21.2. This might lead to breaking code or invalid results. Use at your own risk.\n",
      "  UserWarning)\n",
      "C:\\Users\\kuruparans\\AppData\\Local\\conda\\conda\\envs\\cps\\lib\\site-packages\\sklearn\\base.py:306: UserWarning: Trying to unpickle estimator RandomForestRegressor from version 0.21.3 when using version 0.21.2. This might lead to breaking code or invalid results. Use at your own risk.\n",
      "  UserWarning)\n",
      "C:\\Users\\kuruparans\\AppData\\Local\\conda\\conda\\envs\\cps\\lib\\site-packages\\sklearn\\base.py:306: UserWarning: Trying to unpickle estimator DecisionTreeRegressor from version 0.21.3 when using version 0.21.2. This might lead to breaking code or invalid results. Use at your own risk.\n",
      "  UserWarning)\n",
      "C:\\Users\\kuruparans\\AppData\\Local\\conda\\conda\\envs\\cps\\lib\\site-packages\\sklearn\\base.py:306: UserWarning: Trying to unpickle estimator RandomForestRegressor from version 0.21.3 when using version 0.21.2. This might lead to breaking code or invalid results. Use at your own risk.\n",
      "  UserWarning)\n"
     ]
    },
    {
     "name": "stdout",
     "output_type": "stream",
     "text": [
      "1\n"
     ]
    },
    {
     "name": "stderr",
     "output_type": "stream",
     "text": [
      "C:\\Users\\kuruparans\\AppData\\Local\\conda\\conda\\envs\\cps\\lib\\site-packages\\sklearn\\base.py:306: UserWarning: Trying to unpickle estimator DecisionTreeRegressor from version 0.21.3 when using version 0.21.2. This might lead to breaking code or invalid results. Use at your own risk.\n",
      "  UserWarning)\n",
      "C:\\Users\\kuruparans\\AppData\\Local\\conda\\conda\\envs\\cps\\lib\\site-packages\\sklearn\\base.py:306: UserWarning: Trying to unpickle estimator RandomForestRegressor from version 0.21.3 when using version 0.21.2. This might lead to breaking code or invalid results. Use at your own risk.\n",
      "  UserWarning)\n",
      "C:\\Users\\kuruparans\\AppData\\Local\\conda\\conda\\envs\\cps\\lib\\site-packages\\sklearn\\base.py:306: UserWarning: Trying to unpickle estimator DecisionTreeRegressor from version 0.21.3 when using version 0.21.2. This might lead to breaking code or invalid results. Use at your own risk.\n",
      "  UserWarning)\n",
      "C:\\Users\\kuruparans\\AppData\\Local\\conda\\conda\\envs\\cps\\lib\\site-packages\\sklearn\\base.py:306: UserWarning: Trying to unpickle estimator RandomForestRegressor from version 0.21.3 when using version 0.21.2. This might lead to breaking code or invalid results. Use at your own risk.\n",
      "  UserWarning)\n"
     ]
    },
    {
     "name": "stdout",
     "output_type": "stream",
     "text": [
      "1\n"
     ]
    },
    {
     "name": "stderr",
     "output_type": "stream",
     "text": [
      "C:\\Users\\kuruparans\\AppData\\Local\\conda\\conda\\envs\\cps\\lib\\site-packages\\sklearn\\base.py:306: UserWarning: Trying to unpickle estimator DecisionTreeRegressor from version 0.21.3 when using version 0.21.2. This might lead to breaking code or invalid results. Use at your own risk.\n",
      "  UserWarning)\n",
      "C:\\Users\\kuruparans\\AppData\\Local\\conda\\conda\\envs\\cps\\lib\\site-packages\\sklearn\\base.py:306: UserWarning: Trying to unpickle estimator RandomForestRegressor from version 0.21.3 when using version 0.21.2. This might lead to breaking code or invalid results. Use at your own risk.\n",
      "  UserWarning)\n",
      "C:\\Users\\kuruparans\\AppData\\Local\\conda\\conda\\envs\\cps\\lib\\site-packages\\sklearn\\base.py:306: UserWarning: Trying to unpickle estimator DecisionTreeRegressor from version 0.21.3 when using version 0.21.2. This might lead to breaking code or invalid results. Use at your own risk.\n",
      "  UserWarning)\n",
      "C:\\Users\\kuruparans\\AppData\\Local\\conda\\conda\\envs\\cps\\lib\\site-packages\\sklearn\\base.py:306: UserWarning: Trying to unpickle estimator RandomForestRegressor from version 0.21.3 when using version 0.21.2. This might lead to breaking code or invalid results. Use at your own risk.\n",
      "  UserWarning)\n"
     ]
    },
    {
     "name": "stdout",
     "output_type": "stream",
     "text": [
      "1\n"
     ]
    },
    {
     "name": "stderr",
     "output_type": "stream",
     "text": [
      "C:\\Users\\kuruparans\\AppData\\Local\\conda\\conda\\envs\\cps\\lib\\site-packages\\sklearn\\base.py:306: UserWarning: Trying to unpickle estimator DecisionTreeRegressor from version 0.21.3 when using version 0.21.2. This might lead to breaking code or invalid results. Use at your own risk.\n",
      "  UserWarning)\n",
      "C:\\Users\\kuruparans\\AppData\\Local\\conda\\conda\\envs\\cps\\lib\\site-packages\\sklearn\\base.py:306: UserWarning: Trying to unpickle estimator RandomForestRegressor from version 0.21.3 when using version 0.21.2. This might lead to breaking code or invalid results. Use at your own risk.\n",
      "  UserWarning)\n",
      "C:\\Users\\kuruparans\\AppData\\Local\\conda\\conda\\envs\\cps\\lib\\site-packages\\sklearn\\base.py:306: UserWarning: Trying to unpickle estimator DecisionTreeRegressor from version 0.21.3 when using version 0.21.2. This might lead to breaking code or invalid results. Use at your own risk.\n",
      "  UserWarning)\n",
      "C:\\Users\\kuruparans\\AppData\\Local\\conda\\conda\\envs\\cps\\lib\\site-packages\\sklearn\\base.py:306: UserWarning: Trying to unpickle estimator RandomForestRegressor from version 0.21.3 when using version 0.21.2. This might lead to breaking code or invalid results. Use at your own risk.\n",
      "  UserWarning)\n"
     ]
    },
    {
     "name": "stdout",
     "output_type": "stream",
     "text": [
      "1\n"
     ]
    },
    {
     "name": "stderr",
     "output_type": "stream",
     "text": [
      "C:\\Users\\kuruparans\\AppData\\Local\\conda\\conda\\envs\\cps\\lib\\site-packages\\sklearn\\base.py:306: UserWarning: Trying to unpickle estimator DecisionTreeRegressor from version 0.21.3 when using version 0.21.2. This might lead to breaking code or invalid results. Use at your own risk.\n",
      "  UserWarning)\n",
      "C:\\Users\\kuruparans\\AppData\\Local\\conda\\conda\\envs\\cps\\lib\\site-packages\\sklearn\\base.py:306: UserWarning: Trying to unpickle estimator RandomForestRegressor from version 0.21.3 when using version 0.21.2. This might lead to breaking code or invalid results. Use at your own risk.\n",
      "  UserWarning)\n",
      "C:\\Users\\kuruparans\\AppData\\Local\\conda\\conda\\envs\\cps\\lib\\site-packages\\sklearn\\base.py:306: UserWarning: Trying to unpickle estimator DecisionTreeRegressor from version 0.21.3 when using version 0.21.2. This might lead to breaking code or invalid results. Use at your own risk.\n",
      "  UserWarning)\n",
      "C:\\Users\\kuruparans\\AppData\\Local\\conda\\conda\\envs\\cps\\lib\\site-packages\\sklearn\\base.py:306: UserWarning: Trying to unpickle estimator RandomForestRegressor from version 0.21.3 when using version 0.21.2. This might lead to breaking code or invalid results. Use at your own risk.\n",
      "  UserWarning)\n",
      "C:\\Users\\kuruparans\\AppData\\Local\\conda\\conda\\envs\\cps\\lib\\site-packages\\sklearn\\base.py:306: UserWarning: Trying to unpickle estimator DecisionTreeRegressor from version 0.21.3 when using version 0.21.2. This might lead to breaking code or invalid results. Use at your own risk.\n",
      "  UserWarning)\n"
     ]
    },
    {
     "name": "stdout",
     "output_type": "stream",
     "text": [
      "1\n"
     ]
    },
    {
     "name": "stderr",
     "output_type": "stream",
     "text": [
      "C:\\Users\\kuruparans\\AppData\\Local\\conda\\conda\\envs\\cps\\lib\\site-packages\\sklearn\\base.py:306: UserWarning: Trying to unpickle estimator RandomForestRegressor from version 0.21.3 when using version 0.21.2. This might lead to breaking code or invalid results. Use at your own risk.\n",
      "  UserWarning)\n",
      "C:\\Users\\kuruparans\\AppData\\Local\\conda\\conda\\envs\\cps\\lib\\site-packages\\sklearn\\base.py:306: UserWarning: Trying to unpickle estimator DecisionTreeRegressor from version 0.21.3 when using version 0.21.2. This might lead to breaking code or invalid results. Use at your own risk.\n",
      "  UserWarning)\n",
      "C:\\Users\\kuruparans\\AppData\\Local\\conda\\conda\\envs\\cps\\lib\\site-packages\\sklearn\\base.py:306: UserWarning: Trying to unpickle estimator RandomForestRegressor from version 0.21.3 when using version 0.21.2. This might lead to breaking code or invalid results. Use at your own risk.\n",
      "  UserWarning)\n"
     ]
    },
    {
     "name": "stdout",
     "output_type": "stream",
     "text": [
      "1\n"
     ]
    },
    {
     "name": "stderr",
     "output_type": "stream",
     "text": [
      "C:\\Users\\kuruparans\\AppData\\Local\\conda\\conda\\envs\\cps\\lib\\site-packages\\sklearn\\base.py:306: UserWarning: Trying to unpickle estimator DecisionTreeRegressor from version 0.21.3 when using version 0.21.2. This might lead to breaking code or invalid results. Use at your own risk.\n",
      "  UserWarning)\n",
      "C:\\Users\\kuruparans\\AppData\\Local\\conda\\conda\\envs\\cps\\lib\\site-packages\\sklearn\\base.py:306: UserWarning: Trying to unpickle estimator RandomForestRegressor from version 0.21.3 when using version 0.21.2. This might lead to breaking code or invalid results. Use at your own risk.\n",
      "  UserWarning)\n",
      "C:\\Users\\kuruparans\\AppData\\Local\\conda\\conda\\envs\\cps\\lib\\site-packages\\sklearn\\base.py:306: UserWarning: Trying to unpickle estimator DecisionTreeRegressor from version 0.21.3 when using version 0.21.2. This might lead to breaking code or invalid results. Use at your own risk.\n",
      "  UserWarning)\n",
      "C:\\Users\\kuruparans\\AppData\\Local\\conda\\conda\\envs\\cps\\lib\\site-packages\\sklearn\\base.py:306: UserWarning: Trying to unpickle estimator RandomForestRegressor from version 0.21.3 when using version 0.21.2. This might lead to breaking code or invalid results. Use at your own risk.\n",
      "  UserWarning)\n",
      "C:\\Users\\kuruparans\\AppData\\Local\\conda\\conda\\envs\\cps\\lib\\site-packages\\sklearn\\base.py:306: UserWarning: Trying to unpickle estimator DecisionTreeRegressor from version 0.21.3 when using version 0.21.2. This might lead to breaking code or invalid results. Use at your own risk.\n",
      "  UserWarning)\n"
     ]
    },
    {
     "name": "stdout",
     "output_type": "stream",
     "text": [
      "1\n"
     ]
    },
    {
     "name": "stderr",
     "output_type": "stream",
     "text": [
      "C:\\Users\\kuruparans\\AppData\\Local\\conda\\conda\\envs\\cps\\lib\\site-packages\\sklearn\\base.py:306: UserWarning: Trying to unpickle estimator RandomForestRegressor from version 0.21.3 when using version 0.21.2. This might lead to breaking code or invalid results. Use at your own risk.\n",
      "  UserWarning)\n",
      "C:\\Users\\kuruparans\\AppData\\Local\\conda\\conda\\envs\\cps\\lib\\site-packages\\sklearn\\base.py:306: UserWarning: Trying to unpickle estimator DecisionTreeRegressor from version 0.21.3 when using version 0.21.2. This might lead to breaking code or invalid results. Use at your own risk.\n",
      "  UserWarning)\n",
      "C:\\Users\\kuruparans\\AppData\\Local\\conda\\conda\\envs\\cps\\lib\\site-packages\\sklearn\\base.py:306: UserWarning: Trying to unpickle estimator RandomForestRegressor from version 0.21.3 when using version 0.21.2. This might lead to breaking code or invalid results. Use at your own risk.\n",
      "  UserWarning)\n",
      "C:\\Users\\kuruparans\\AppData\\Local\\conda\\conda\\envs\\cps\\lib\\site-packages\\sklearn\\base.py:306: UserWarning: Trying to unpickle estimator DecisionTreeRegressor from version 0.21.3 when using version 0.21.2. This might lead to breaking code or invalid results. Use at your own risk.\n",
      "  UserWarning)\n"
     ]
    },
    {
     "name": "stdout",
     "output_type": "stream",
     "text": [
      "1\n"
     ]
    },
    {
     "name": "stderr",
     "output_type": "stream",
     "text": [
      "C:\\Users\\kuruparans\\AppData\\Local\\conda\\conda\\envs\\cps\\lib\\site-packages\\sklearn\\base.py:306: UserWarning: Trying to unpickle estimator RandomForestRegressor from version 0.21.3 when using version 0.21.2. This might lead to breaking code or invalid results. Use at your own risk.\n",
      "  UserWarning)\n",
      "C:\\Users\\kuruparans\\AppData\\Local\\conda\\conda\\envs\\cps\\lib\\site-packages\\sklearn\\base.py:306: UserWarning: Trying to unpickle estimator DecisionTreeRegressor from version 0.21.3 when using version 0.21.2. This might lead to breaking code or invalid results. Use at your own risk.\n",
      "  UserWarning)\n",
      "C:\\Users\\kuruparans\\AppData\\Local\\conda\\conda\\envs\\cps\\lib\\site-packages\\sklearn\\base.py:306: UserWarning: Trying to unpickle estimator RandomForestRegressor from version 0.21.3 when using version 0.21.2. This might lead to breaking code or invalid results. Use at your own risk.\n",
      "  UserWarning)\n"
     ]
    },
    {
     "name": "stdout",
     "output_type": "stream",
     "text": [
      "1\n"
     ]
    },
    {
     "name": "stderr",
     "output_type": "stream",
     "text": [
      "C:\\Users\\kuruparans\\AppData\\Local\\conda\\conda\\envs\\cps\\lib\\site-packages\\sklearn\\base.py:306: UserWarning: Trying to unpickle estimator DecisionTreeRegressor from version 0.21.3 when using version 0.21.2. This might lead to breaking code or invalid results. Use at your own risk.\n",
      "  UserWarning)\n",
      "C:\\Users\\kuruparans\\AppData\\Local\\conda\\conda\\envs\\cps\\lib\\site-packages\\sklearn\\base.py:306: UserWarning: Trying to unpickle estimator RandomForestRegressor from version 0.21.3 when using version 0.21.2. This might lead to breaking code or invalid results. Use at your own risk.\n",
      "  UserWarning)\n",
      "C:\\Users\\kuruparans\\AppData\\Local\\conda\\conda\\envs\\cps\\lib\\site-packages\\sklearn\\base.py:306: UserWarning: Trying to unpickle estimator DecisionTreeRegressor from version 0.21.3 when using version 0.21.2. This might lead to breaking code or invalid results. Use at your own risk.\n",
      "  UserWarning)\n",
      "C:\\Users\\kuruparans\\AppData\\Local\\conda\\conda\\envs\\cps\\lib\\site-packages\\sklearn\\base.py:306: UserWarning: Trying to unpickle estimator RandomForestRegressor from version 0.21.3 when using version 0.21.2. This might lead to breaking code or invalid results. Use at your own risk.\n",
      "  UserWarning)\n",
      "C:\\Users\\kuruparans\\AppData\\Local\\conda\\conda\\envs\\cps\\lib\\site-packages\\sklearn\\base.py:306: UserWarning: Trying to unpickle estimator DecisionTreeRegressor from version 0.21.3 when using version 0.21.2. This might lead to breaking code or invalid results. Use at your own risk.\n",
      "  UserWarning)\n"
     ]
    },
    {
     "name": "stdout",
     "output_type": "stream",
     "text": [
      "1\n"
     ]
    },
    {
     "name": "stderr",
     "output_type": "stream",
     "text": [
      "C:\\Users\\kuruparans\\AppData\\Local\\conda\\conda\\envs\\cps\\lib\\site-packages\\sklearn\\base.py:306: UserWarning: Trying to unpickle estimator RandomForestRegressor from version 0.21.3 when using version 0.21.2. This might lead to breaking code or invalid results. Use at your own risk.\n",
      "  UserWarning)\n",
      "C:\\Users\\kuruparans\\AppData\\Local\\conda\\conda\\envs\\cps\\lib\\site-packages\\sklearn\\base.py:306: UserWarning: Trying to unpickle estimator DecisionTreeRegressor from version 0.21.3 when using version 0.21.2. This might lead to breaking code or invalid results. Use at your own risk.\n",
      "  UserWarning)\n",
      "C:\\Users\\kuruparans\\AppData\\Local\\conda\\conda\\envs\\cps\\lib\\site-packages\\sklearn\\base.py:306: UserWarning: Trying to unpickle estimator RandomForestRegressor from version 0.21.3 when using version 0.21.2. This might lead to breaking code or invalid results. Use at your own risk.\n",
      "  UserWarning)\n"
     ]
    },
    {
     "name": "stdout",
     "output_type": "stream",
     "text": [
      "1\n"
     ]
    },
    {
     "name": "stderr",
     "output_type": "stream",
     "text": [
      "C:\\Users\\kuruparans\\AppData\\Local\\conda\\conda\\envs\\cps\\lib\\site-packages\\sklearn\\base.py:306: UserWarning: Trying to unpickle estimator DecisionTreeRegressor from version 0.21.3 when using version 0.21.2. This might lead to breaking code or invalid results. Use at your own risk.\n",
      "  UserWarning)\n",
      "C:\\Users\\kuruparans\\AppData\\Local\\conda\\conda\\envs\\cps\\lib\\site-packages\\sklearn\\base.py:306: UserWarning: Trying to unpickle estimator RandomForestRegressor from version 0.21.3 when using version 0.21.2. This might lead to breaking code or invalid results. Use at your own risk.\n",
      "  UserWarning)\n",
      "C:\\Users\\kuruparans\\AppData\\Local\\conda\\conda\\envs\\cps\\lib\\site-packages\\sklearn\\base.py:306: UserWarning: Trying to unpickle estimator DecisionTreeRegressor from version 0.21.3 when using version 0.21.2. This might lead to breaking code or invalid results. Use at your own risk.\n",
      "  UserWarning)\n",
      "C:\\Users\\kuruparans\\AppData\\Local\\conda\\conda\\envs\\cps\\lib\\site-packages\\sklearn\\base.py:306: UserWarning: Trying to unpickle estimator RandomForestRegressor from version 0.21.3 when using version 0.21.2. This might lead to breaking code or invalid results. Use at your own risk.\n",
      "  UserWarning)\n"
     ]
    },
    {
     "name": "stdout",
     "output_type": "stream",
     "text": [
      "1\n"
     ]
    },
    {
     "name": "stderr",
     "output_type": "stream",
     "text": [
      "C:\\Users\\kuruparans\\AppData\\Local\\conda\\conda\\envs\\cps\\lib\\site-packages\\sklearn\\base.py:306: UserWarning: Trying to unpickle estimator DecisionTreeRegressor from version 0.21.3 when using version 0.21.2. This might lead to breaking code or invalid results. Use at your own risk.\n",
      "  UserWarning)\n",
      "C:\\Users\\kuruparans\\AppData\\Local\\conda\\conda\\envs\\cps\\lib\\site-packages\\sklearn\\base.py:306: UserWarning: Trying to unpickle estimator RandomForestRegressor from version 0.21.3 when using version 0.21.2. This might lead to breaking code or invalid results. Use at your own risk.\n",
      "  UserWarning)\n",
      "C:\\Users\\kuruparans\\AppData\\Local\\conda\\conda\\envs\\cps\\lib\\site-packages\\sklearn\\base.py:306: UserWarning: Trying to unpickle estimator DecisionTreeRegressor from version 0.21.3 when using version 0.21.2. This might lead to breaking code or invalid results. Use at your own risk.\n",
      "  UserWarning)\n",
      "C:\\Users\\kuruparans\\AppData\\Local\\conda\\conda\\envs\\cps\\lib\\site-packages\\sklearn\\base.py:306: UserWarning: Trying to unpickle estimator RandomForestRegressor from version 0.21.3 when using version 0.21.2. This might lead to breaking code or invalid results. Use at your own risk.\n",
      "  UserWarning)\n"
     ]
    },
    {
     "name": "stdout",
     "output_type": "stream",
     "text": [
      "1\n"
     ]
    },
    {
     "name": "stderr",
     "output_type": "stream",
     "text": [
      "C:\\Users\\kuruparans\\AppData\\Local\\conda\\conda\\envs\\cps\\lib\\site-packages\\sklearn\\base.py:306: UserWarning: Trying to unpickle estimator DecisionTreeRegressor from version 0.21.3 when using version 0.21.2. This might lead to breaking code or invalid results. Use at your own risk.\n",
      "  UserWarning)\n",
      "C:\\Users\\kuruparans\\AppData\\Local\\conda\\conda\\envs\\cps\\lib\\site-packages\\sklearn\\base.py:306: UserWarning: Trying to unpickle estimator RandomForestRegressor from version 0.21.3 when using version 0.21.2. This might lead to breaking code or invalid results. Use at your own risk.\n",
      "  UserWarning)\n",
      "C:\\Users\\kuruparans\\AppData\\Local\\conda\\conda\\envs\\cps\\lib\\site-packages\\sklearn\\base.py:306: UserWarning: Trying to unpickle estimator DecisionTreeRegressor from version 0.21.3 when using version 0.21.2. This might lead to breaking code or invalid results. Use at your own risk.\n",
      "  UserWarning)\n",
      "C:\\Users\\kuruparans\\AppData\\Local\\conda\\conda\\envs\\cps\\lib\\site-packages\\sklearn\\base.py:306: UserWarning: Trying to unpickle estimator RandomForestRegressor from version 0.21.3 when using version 0.21.2. This might lead to breaking code or invalid results. Use at your own risk.\n",
      "  UserWarning)\n"
     ]
    },
    {
     "name": "stdout",
     "output_type": "stream",
     "text": [
      "1\n"
     ]
    },
    {
     "name": "stderr",
     "output_type": "stream",
     "text": [
      "C:\\Users\\kuruparans\\AppData\\Local\\conda\\conda\\envs\\cps\\lib\\site-packages\\sklearn\\base.py:306: UserWarning: Trying to unpickle estimator DecisionTreeRegressor from version 0.21.3 when using version 0.21.2. This might lead to breaking code or invalid results. Use at your own risk.\n",
      "  UserWarning)\n",
      "C:\\Users\\kuruparans\\AppData\\Local\\conda\\conda\\envs\\cps\\lib\\site-packages\\sklearn\\base.py:306: UserWarning: Trying to unpickle estimator RandomForestRegressor from version 0.21.3 when using version 0.21.2. This might lead to breaking code or invalid results. Use at your own risk.\n",
      "  UserWarning)\n",
      "C:\\Users\\kuruparans\\AppData\\Local\\conda\\conda\\envs\\cps\\lib\\site-packages\\sklearn\\base.py:306: UserWarning: Trying to unpickle estimator DecisionTreeRegressor from version 0.21.3 when using version 0.21.2. This might lead to breaking code or invalid results. Use at your own risk.\n",
      "  UserWarning)\n",
      "C:\\Users\\kuruparans\\AppData\\Local\\conda\\conda\\envs\\cps\\lib\\site-packages\\sklearn\\base.py:306: UserWarning: Trying to unpickle estimator RandomForestRegressor from version 0.21.3 when using version 0.21.2. This might lead to breaking code or invalid results. Use at your own risk.\n",
      "  UserWarning)\n"
     ]
    },
    {
     "name": "stdout",
     "output_type": "stream",
     "text": [
      "1\n"
     ]
    },
    {
     "name": "stderr",
     "output_type": "stream",
     "text": [
      "C:\\Users\\kuruparans\\AppData\\Local\\conda\\conda\\envs\\cps\\lib\\site-packages\\sklearn\\base.py:306: UserWarning: Trying to unpickle estimator DecisionTreeRegressor from version 0.21.3 when using version 0.21.2. This might lead to breaking code or invalid results. Use at your own risk.\n",
      "  UserWarning)\n",
      "C:\\Users\\kuruparans\\AppData\\Local\\conda\\conda\\envs\\cps\\lib\\site-packages\\sklearn\\base.py:306: UserWarning: Trying to unpickle estimator RandomForestRegressor from version 0.21.3 when using version 0.21.2. This might lead to breaking code or invalid results. Use at your own risk.\n",
      "  UserWarning)\n",
      "C:\\Users\\kuruparans\\AppData\\Local\\conda\\conda\\envs\\cps\\lib\\site-packages\\sklearn\\base.py:306: UserWarning: Trying to unpickle estimator DecisionTreeRegressor from version 0.21.3 when using version 0.21.2. This might lead to breaking code or invalid results. Use at your own risk.\n",
      "  UserWarning)\n",
      "C:\\Users\\kuruparans\\AppData\\Local\\conda\\conda\\envs\\cps\\lib\\site-packages\\sklearn\\base.py:306: UserWarning: Trying to unpickle estimator RandomForestRegressor from version 0.21.3 when using version 0.21.2. This might lead to breaking code or invalid results. Use at your own risk.\n",
      "  UserWarning)\n"
     ]
    },
    {
     "name": "stdout",
     "output_type": "stream",
     "text": [
      "1\n"
     ]
    },
    {
     "name": "stderr",
     "output_type": "stream",
     "text": [
      "C:\\Users\\kuruparans\\AppData\\Local\\conda\\conda\\envs\\cps\\lib\\site-packages\\sklearn\\base.py:306: UserWarning: Trying to unpickle estimator DecisionTreeRegressor from version 0.21.3 when using version 0.21.2. This might lead to breaking code or invalid results. Use at your own risk.\n",
      "  UserWarning)\n",
      "C:\\Users\\kuruparans\\AppData\\Local\\conda\\conda\\envs\\cps\\lib\\site-packages\\sklearn\\base.py:306: UserWarning: Trying to unpickle estimator RandomForestRegressor from version 0.21.3 when using version 0.21.2. This might lead to breaking code or invalid results. Use at your own risk.\n",
      "  UserWarning)\n",
      "C:\\Users\\kuruparans\\AppData\\Local\\conda\\conda\\envs\\cps\\lib\\site-packages\\sklearn\\base.py:306: UserWarning: Trying to unpickle estimator DecisionTreeRegressor from version 0.21.3 when using version 0.21.2. This might lead to breaking code or invalid results. Use at your own risk.\n",
      "  UserWarning)\n",
      "C:\\Users\\kuruparans\\AppData\\Local\\conda\\conda\\envs\\cps\\lib\\site-packages\\sklearn\\base.py:306: UserWarning: Trying to unpickle estimator RandomForestRegressor from version 0.21.3 when using version 0.21.2. This might lead to breaking code or invalid results. Use at your own risk.\n",
      "  UserWarning)\n"
     ]
    },
    {
     "name": "stdout",
     "output_type": "stream",
     "text": [
      "1\n"
     ]
    },
    {
     "name": "stderr",
     "output_type": "stream",
     "text": [
      "C:\\Users\\kuruparans\\AppData\\Local\\conda\\conda\\envs\\cps\\lib\\site-packages\\sklearn\\base.py:306: UserWarning: Trying to unpickle estimator DecisionTreeRegressor from version 0.21.3 when using version 0.21.2. This might lead to breaking code or invalid results. Use at your own risk.\n",
      "  UserWarning)\n",
      "C:\\Users\\kuruparans\\AppData\\Local\\conda\\conda\\envs\\cps\\lib\\site-packages\\sklearn\\base.py:306: UserWarning: Trying to unpickle estimator RandomForestRegressor from version 0.21.3 when using version 0.21.2. This might lead to breaking code or invalid results. Use at your own risk.\n",
      "  UserWarning)\n",
      "C:\\Users\\kuruparans\\AppData\\Local\\conda\\conda\\envs\\cps\\lib\\site-packages\\sklearn\\base.py:306: UserWarning: Trying to unpickle estimator DecisionTreeRegressor from version 0.21.3 when using version 0.21.2. This might lead to breaking code or invalid results. Use at your own risk.\n",
      "  UserWarning)\n",
      "C:\\Users\\kuruparans\\AppData\\Local\\conda\\conda\\envs\\cps\\lib\\site-packages\\sklearn\\base.py:306: UserWarning: Trying to unpickle estimator RandomForestRegressor from version 0.21.3 when using version 0.21.2. This might lead to breaking code or invalid results. Use at your own risk.\n",
      "  UserWarning)\n"
     ]
    },
    {
     "name": "stdout",
     "output_type": "stream",
     "text": [
      "1\n"
     ]
    },
    {
     "name": "stderr",
     "output_type": "stream",
     "text": [
      "C:\\Users\\kuruparans\\AppData\\Local\\conda\\conda\\envs\\cps\\lib\\site-packages\\sklearn\\base.py:306: UserWarning: Trying to unpickle estimator DecisionTreeRegressor from version 0.21.3 when using version 0.21.2. This might lead to breaking code or invalid results. Use at your own risk.\n",
      "  UserWarning)\n",
      "C:\\Users\\kuruparans\\AppData\\Local\\conda\\conda\\envs\\cps\\lib\\site-packages\\sklearn\\base.py:306: UserWarning: Trying to unpickle estimator RandomForestRegressor from version 0.21.3 when using version 0.21.2. This might lead to breaking code or invalid results. Use at your own risk.\n",
      "  UserWarning)\n",
      "C:\\Users\\kuruparans\\AppData\\Local\\conda\\conda\\envs\\cps\\lib\\site-packages\\sklearn\\base.py:306: UserWarning: Trying to unpickle estimator DecisionTreeRegressor from version 0.21.3 when using version 0.21.2. This might lead to breaking code or invalid results. Use at your own risk.\n",
      "  UserWarning)\n",
      "C:\\Users\\kuruparans\\AppData\\Local\\conda\\conda\\envs\\cps\\lib\\site-packages\\sklearn\\base.py:306: UserWarning: Trying to unpickle estimator RandomForestRegressor from version 0.21.3 when using version 0.21.2. This might lead to breaking code or invalid results. Use at your own risk.\n",
      "  UserWarning)\n"
     ]
    },
    {
     "name": "stdout",
     "output_type": "stream",
     "text": [
      "1\n"
     ]
    },
    {
     "name": "stderr",
     "output_type": "stream",
     "text": [
      "C:\\Users\\kuruparans\\AppData\\Local\\conda\\conda\\envs\\cps\\lib\\site-packages\\sklearn\\base.py:306: UserWarning: Trying to unpickle estimator DecisionTreeRegressor from version 0.21.3 when using version 0.21.2. This might lead to breaking code or invalid results. Use at your own risk.\n",
      "  UserWarning)\n",
      "C:\\Users\\kuruparans\\AppData\\Local\\conda\\conda\\envs\\cps\\lib\\site-packages\\sklearn\\base.py:306: UserWarning: Trying to unpickle estimator RandomForestRegressor from version 0.21.3 when using version 0.21.2. This might lead to breaking code or invalid results. Use at your own risk.\n",
      "  UserWarning)\n",
      "C:\\Users\\kuruparans\\AppData\\Local\\conda\\conda\\envs\\cps\\lib\\site-packages\\sklearn\\base.py:306: UserWarning: Trying to unpickle estimator DecisionTreeRegressor from version 0.21.3 when using version 0.21.2. This might lead to breaking code or invalid results. Use at your own risk.\n",
      "  UserWarning)\n",
      "C:\\Users\\kuruparans\\AppData\\Local\\conda\\conda\\envs\\cps\\lib\\site-packages\\sklearn\\base.py:306: UserWarning: Trying to unpickle estimator RandomForestRegressor from version 0.21.3 when using version 0.21.2. This might lead to breaking code or invalid results. Use at your own risk.\n",
      "  UserWarning)\n",
      "C:\\Users\\kuruparans\\AppData\\Local\\conda\\conda\\envs\\cps\\lib\\site-packages\\sklearn\\base.py:306: UserWarning: Trying to unpickle estimator DecisionTreeRegressor from version 0.21.3 when using version 0.21.2. This might lead to breaking code or invalid results. Use at your own risk.\n",
      "  UserWarning)\n"
     ]
    },
    {
     "name": "stdout",
     "output_type": "stream",
     "text": [
      "1\n"
     ]
    },
    {
     "name": "stderr",
     "output_type": "stream",
     "text": [
      "C:\\Users\\kuruparans\\AppData\\Local\\conda\\conda\\envs\\cps\\lib\\site-packages\\sklearn\\base.py:306: UserWarning: Trying to unpickle estimator RandomForestRegressor from version 0.21.3 when using version 0.21.2. This might lead to breaking code or invalid results. Use at your own risk.\n",
      "  UserWarning)\n",
      "C:\\Users\\kuruparans\\AppData\\Local\\conda\\conda\\envs\\cps\\lib\\site-packages\\sklearn\\base.py:306: UserWarning: Trying to unpickle estimator DecisionTreeRegressor from version 0.21.3 when using version 0.21.2. This might lead to breaking code or invalid results. Use at your own risk.\n",
      "  UserWarning)\n",
      "C:\\Users\\kuruparans\\AppData\\Local\\conda\\conda\\envs\\cps\\lib\\site-packages\\sklearn\\base.py:306: UserWarning: Trying to unpickle estimator RandomForestRegressor from version 0.21.3 when using version 0.21.2. This might lead to breaking code or invalid results. Use at your own risk.\n",
      "  UserWarning)\n"
     ]
    },
    {
     "name": "stdout",
     "output_type": "stream",
     "text": [
      "1\n"
     ]
    },
    {
     "name": "stderr",
     "output_type": "stream",
     "text": [
      "C:\\Users\\kuruparans\\AppData\\Local\\conda\\conda\\envs\\cps\\lib\\site-packages\\sklearn\\base.py:306: UserWarning: Trying to unpickle estimator DecisionTreeRegressor from version 0.21.3 when using version 0.21.2. This might lead to breaking code or invalid results. Use at your own risk.\n",
      "  UserWarning)\n",
      "C:\\Users\\kuruparans\\AppData\\Local\\conda\\conda\\envs\\cps\\lib\\site-packages\\sklearn\\base.py:306: UserWarning: Trying to unpickle estimator RandomForestRegressor from version 0.21.3 when using version 0.21.2. This might lead to breaking code or invalid results. Use at your own risk.\n",
      "  UserWarning)\n",
      "C:\\Users\\kuruparans\\AppData\\Local\\conda\\conda\\envs\\cps\\lib\\site-packages\\sklearn\\base.py:306: UserWarning: Trying to unpickle estimator DecisionTreeRegressor from version 0.21.3 when using version 0.21.2. This might lead to breaking code or invalid results. Use at your own risk.\n",
      "  UserWarning)\n",
      "C:\\Users\\kuruparans\\AppData\\Local\\conda\\conda\\envs\\cps\\lib\\site-packages\\sklearn\\base.py:306: UserWarning: Trying to unpickle estimator RandomForestRegressor from version 0.21.3 when using version 0.21.2. This might lead to breaking code or invalid results. Use at your own risk.\n",
      "  UserWarning)\n",
      "C:\\Users\\kuruparans\\AppData\\Local\\conda\\conda\\envs\\cps\\lib\\site-packages\\sklearn\\base.py:306: UserWarning: Trying to unpickle estimator DecisionTreeRegressor from version 0.21.3 when using version 0.21.2. This might lead to breaking code or invalid results. Use at your own risk.\n",
      "  UserWarning)\n"
     ]
    },
    {
     "name": "stdout",
     "output_type": "stream",
     "text": [
      "1\n"
     ]
    },
    {
     "name": "stderr",
     "output_type": "stream",
     "text": [
      "C:\\Users\\kuruparans\\AppData\\Local\\conda\\conda\\envs\\cps\\lib\\site-packages\\sklearn\\base.py:306: UserWarning: Trying to unpickle estimator RandomForestRegressor from version 0.21.3 when using version 0.21.2. This might lead to breaking code or invalid results. Use at your own risk.\n",
      "  UserWarning)\n",
      "C:\\Users\\kuruparans\\AppData\\Local\\conda\\conda\\envs\\cps\\lib\\site-packages\\sklearn\\base.py:306: UserWarning: Trying to unpickle estimator DecisionTreeRegressor from version 0.21.3 when using version 0.21.2. This might lead to breaking code or invalid results. Use at your own risk.\n",
      "  UserWarning)\n",
      "C:\\Users\\kuruparans\\AppData\\Local\\conda\\conda\\envs\\cps\\lib\\site-packages\\sklearn\\base.py:306: UserWarning: Trying to unpickle estimator RandomForestRegressor from version 0.21.3 when using version 0.21.2. This might lead to breaking code or invalid results. Use at your own risk.\n",
      "  UserWarning)\n"
     ]
    },
    {
     "name": "stdout",
     "output_type": "stream",
     "text": [
      "1\n"
     ]
    },
    {
     "name": "stderr",
     "output_type": "stream",
     "text": [
      "C:\\Users\\kuruparans\\AppData\\Local\\conda\\conda\\envs\\cps\\lib\\site-packages\\sklearn\\base.py:306: UserWarning: Trying to unpickle estimator DecisionTreeRegressor from version 0.21.3 when using version 0.21.2. This might lead to breaking code or invalid results. Use at your own risk.\n",
      "  UserWarning)\n",
      "C:\\Users\\kuruparans\\AppData\\Local\\conda\\conda\\envs\\cps\\lib\\site-packages\\sklearn\\base.py:306: UserWarning: Trying to unpickle estimator RandomForestRegressor from version 0.21.3 when using version 0.21.2. This might lead to breaking code or invalid results. Use at your own risk.\n",
      "  UserWarning)\n",
      "C:\\Users\\kuruparans\\AppData\\Local\\conda\\conda\\envs\\cps\\lib\\site-packages\\sklearn\\base.py:306: UserWarning: Trying to unpickle estimator DecisionTreeRegressor from version 0.21.3 when using version 0.21.2. This might lead to breaking code or invalid results. Use at your own risk.\n",
      "  UserWarning)\n",
      "C:\\Users\\kuruparans\\AppData\\Local\\conda\\conda\\envs\\cps\\lib\\site-packages\\sklearn\\base.py:306: UserWarning: Trying to unpickle estimator RandomForestRegressor from version 0.21.3 when using version 0.21.2. This might lead to breaking code or invalid results. Use at your own risk.\n",
      "  UserWarning)\n"
     ]
    },
    {
     "name": "stdout",
     "output_type": "stream",
     "text": [
      "1\n"
     ]
    },
    {
     "name": "stderr",
     "output_type": "stream",
     "text": [
      "C:\\Users\\kuruparans\\AppData\\Local\\conda\\conda\\envs\\cps\\lib\\site-packages\\sklearn\\base.py:306: UserWarning: Trying to unpickle estimator DecisionTreeRegressor from version 0.21.3 when using version 0.21.2. This might lead to breaking code or invalid results. Use at your own risk.\n",
      "  UserWarning)\n",
      "C:\\Users\\kuruparans\\AppData\\Local\\conda\\conda\\envs\\cps\\lib\\site-packages\\sklearn\\base.py:306: UserWarning: Trying to unpickle estimator RandomForestRegressor from version 0.21.3 when using version 0.21.2. This might lead to breaking code or invalid results. Use at your own risk.\n",
      "  UserWarning)\n",
      "C:\\Users\\kuruparans\\AppData\\Local\\conda\\conda\\envs\\cps\\lib\\site-packages\\sklearn\\base.py:306: UserWarning: Trying to unpickle estimator DecisionTreeRegressor from version 0.21.3 when using version 0.21.2. This might lead to breaking code or invalid results. Use at your own risk.\n",
      "  UserWarning)\n",
      "C:\\Users\\kuruparans\\AppData\\Local\\conda\\conda\\envs\\cps\\lib\\site-packages\\sklearn\\base.py:306: UserWarning: Trying to unpickle estimator RandomForestRegressor from version 0.21.3 when using version 0.21.2. This might lead to breaking code or invalid results. Use at your own risk.\n",
      "  UserWarning)\n"
     ]
    },
    {
     "name": "stdout",
     "output_type": "stream",
     "text": [
      "1\n"
     ]
    },
    {
     "name": "stderr",
     "output_type": "stream",
     "text": [
      "C:\\Users\\kuruparans\\AppData\\Local\\conda\\conda\\envs\\cps\\lib\\site-packages\\sklearn\\base.py:306: UserWarning: Trying to unpickle estimator DecisionTreeRegressor from version 0.21.3 when using version 0.21.2. This might lead to breaking code or invalid results. Use at your own risk.\n",
      "  UserWarning)\n",
      "C:\\Users\\kuruparans\\AppData\\Local\\conda\\conda\\envs\\cps\\lib\\site-packages\\sklearn\\base.py:306: UserWarning: Trying to unpickle estimator RandomForestRegressor from version 0.21.3 when using version 0.21.2. This might lead to breaking code or invalid results. Use at your own risk.\n",
      "  UserWarning)\n",
      "C:\\Users\\kuruparans\\AppData\\Local\\conda\\conda\\envs\\cps\\lib\\site-packages\\sklearn\\base.py:306: UserWarning: Trying to unpickle estimator DecisionTreeRegressor from version 0.21.3 when using version 0.21.2. This might lead to breaking code or invalid results. Use at your own risk.\n",
      "  UserWarning)\n",
      "C:\\Users\\kuruparans\\AppData\\Local\\conda\\conda\\envs\\cps\\lib\\site-packages\\sklearn\\base.py:306: UserWarning: Trying to unpickle estimator RandomForestRegressor from version 0.21.3 when using version 0.21.2. This might lead to breaking code or invalid results. Use at your own risk.\n",
      "  UserWarning)\n"
     ]
    },
    {
     "name": "stdout",
     "output_type": "stream",
     "text": [
      "1\n"
     ]
    },
    {
     "name": "stderr",
     "output_type": "stream",
     "text": [
      "C:\\Users\\kuruparans\\AppData\\Local\\conda\\conda\\envs\\cps\\lib\\site-packages\\sklearn\\base.py:306: UserWarning: Trying to unpickle estimator DecisionTreeRegressor from version 0.21.3 when using version 0.21.2. This might lead to breaking code or invalid results. Use at your own risk.\n",
      "  UserWarning)\n",
      "C:\\Users\\kuruparans\\AppData\\Local\\conda\\conda\\envs\\cps\\lib\\site-packages\\sklearn\\base.py:306: UserWarning: Trying to unpickle estimator RandomForestRegressor from version 0.21.3 when using version 0.21.2. This might lead to breaking code or invalid results. Use at your own risk.\n",
      "  UserWarning)\n",
      "C:\\Users\\kuruparans\\AppData\\Local\\conda\\conda\\envs\\cps\\lib\\site-packages\\sklearn\\base.py:306: UserWarning: Trying to unpickle estimator DecisionTreeRegressor from version 0.21.3 when using version 0.21.2. This might lead to breaking code or invalid results. Use at your own risk.\n",
      "  UserWarning)\n",
      "C:\\Users\\kuruparans\\AppData\\Local\\conda\\conda\\envs\\cps\\lib\\site-packages\\sklearn\\base.py:306: UserWarning: Trying to unpickle estimator RandomForestRegressor from version 0.21.3 when using version 0.21.2. This might lead to breaking code or invalid results. Use at your own risk.\n",
      "  UserWarning)\n",
      "C:\\Users\\kuruparans\\AppData\\Local\\conda\\conda\\envs\\cps\\lib\\site-packages\\sklearn\\base.py:306: UserWarning: Trying to unpickle estimator DecisionTreeRegressor from version 0.21.3 when using version 0.21.2. This might lead to breaking code or invalid results. Use at your own risk.\n",
      "  UserWarning)\n"
     ]
    },
    {
     "name": "stdout",
     "output_type": "stream",
     "text": [
      "1\n"
     ]
    },
    {
     "name": "stderr",
     "output_type": "stream",
     "text": [
      "C:\\Users\\kuruparans\\AppData\\Local\\conda\\conda\\envs\\cps\\lib\\site-packages\\sklearn\\base.py:306: UserWarning: Trying to unpickle estimator RandomForestRegressor from version 0.21.3 when using version 0.21.2. This might lead to breaking code or invalid results. Use at your own risk.\n",
      "  UserWarning)\n",
      "C:\\Users\\kuruparans\\AppData\\Local\\conda\\conda\\envs\\cps\\lib\\site-packages\\sklearn\\base.py:306: UserWarning: Trying to unpickle estimator DecisionTreeRegressor from version 0.21.3 when using version 0.21.2. This might lead to breaking code or invalid results. Use at your own risk.\n",
      "  UserWarning)\n",
      "C:\\Users\\kuruparans\\AppData\\Local\\conda\\conda\\envs\\cps\\lib\\site-packages\\sklearn\\base.py:306: UserWarning: Trying to unpickle estimator RandomForestRegressor from version 0.21.3 when using version 0.21.2. This might lead to breaking code or invalid results. Use at your own risk.\n",
      "  UserWarning)\n"
     ]
    },
    {
     "name": "stdout",
     "output_type": "stream",
     "text": [
      "1\n"
     ]
    },
    {
     "name": "stderr",
     "output_type": "stream",
     "text": [
      "C:\\Users\\kuruparans\\AppData\\Local\\conda\\conda\\envs\\cps\\lib\\site-packages\\sklearn\\base.py:306: UserWarning: Trying to unpickle estimator DecisionTreeRegressor from version 0.21.3 when using version 0.21.2. This might lead to breaking code or invalid results. Use at your own risk.\n",
      "  UserWarning)\n",
      "C:\\Users\\kuruparans\\AppData\\Local\\conda\\conda\\envs\\cps\\lib\\site-packages\\sklearn\\base.py:306: UserWarning: Trying to unpickle estimator RandomForestRegressor from version 0.21.3 when using version 0.21.2. This might lead to breaking code or invalid results. Use at your own risk.\n",
      "  UserWarning)\n",
      "C:\\Users\\kuruparans\\AppData\\Local\\conda\\conda\\envs\\cps\\lib\\site-packages\\sklearn\\base.py:306: UserWarning: Trying to unpickle estimator DecisionTreeRegressor from version 0.21.3 when using version 0.21.2. This might lead to breaking code or invalid results. Use at your own risk.\n",
      "  UserWarning)\n",
      "C:\\Users\\kuruparans\\AppData\\Local\\conda\\conda\\envs\\cps\\lib\\site-packages\\sklearn\\base.py:306: UserWarning: Trying to unpickle estimator RandomForestRegressor from version 0.21.3 when using version 0.21.2. This might lead to breaking code or invalid results. Use at your own risk.\n",
      "  UserWarning)\n"
     ]
    },
    {
     "name": "stdout",
     "output_type": "stream",
     "text": [
      "1\n"
     ]
    },
    {
     "name": "stderr",
     "output_type": "stream",
     "text": [
      "C:\\Users\\kuruparans\\AppData\\Local\\conda\\conda\\envs\\cps\\lib\\site-packages\\sklearn\\base.py:306: UserWarning: Trying to unpickle estimator DecisionTreeRegressor from version 0.21.3 when using version 0.21.2. This might lead to breaking code or invalid results. Use at your own risk.\n",
      "  UserWarning)\n",
      "C:\\Users\\kuruparans\\AppData\\Local\\conda\\conda\\envs\\cps\\lib\\site-packages\\sklearn\\base.py:306: UserWarning: Trying to unpickle estimator RandomForestRegressor from version 0.21.3 when using version 0.21.2. This might lead to breaking code or invalid results. Use at your own risk.\n",
      "  UserWarning)\n",
      "C:\\Users\\kuruparans\\AppData\\Local\\conda\\conda\\envs\\cps\\lib\\site-packages\\sklearn\\base.py:306: UserWarning: Trying to unpickle estimator DecisionTreeRegressor from version 0.21.3 when using version 0.21.2. This might lead to breaking code or invalid results. Use at your own risk.\n",
      "  UserWarning)\n",
      "C:\\Users\\kuruparans\\AppData\\Local\\conda\\conda\\envs\\cps\\lib\\site-packages\\sklearn\\base.py:306: UserWarning: Trying to unpickle estimator RandomForestRegressor from version 0.21.3 when using version 0.21.2. This might lead to breaking code or invalid results. Use at your own risk.\n",
      "  UserWarning)\n"
     ]
    },
    {
     "name": "stdout",
     "output_type": "stream",
     "text": [
      "1\n"
     ]
    },
    {
     "name": "stderr",
     "output_type": "stream",
     "text": [
      "C:\\Users\\kuruparans\\AppData\\Local\\conda\\conda\\envs\\cps\\lib\\site-packages\\sklearn\\base.py:306: UserWarning: Trying to unpickle estimator DecisionTreeRegressor from version 0.21.3 when using version 0.21.2. This might lead to breaking code or invalid results. Use at your own risk.\n",
      "  UserWarning)\n",
      "C:\\Users\\kuruparans\\AppData\\Local\\conda\\conda\\envs\\cps\\lib\\site-packages\\sklearn\\base.py:306: UserWarning: Trying to unpickle estimator RandomForestRegressor from version 0.21.3 when using version 0.21.2. This might lead to breaking code or invalid results. Use at your own risk.\n",
      "  UserWarning)\n",
      "C:\\Users\\kuruparans\\AppData\\Local\\conda\\conda\\envs\\cps\\lib\\site-packages\\sklearn\\base.py:306: UserWarning: Trying to unpickle estimator DecisionTreeRegressor from version 0.21.3 when using version 0.21.2. This might lead to breaking code or invalid results. Use at your own risk.\n",
      "  UserWarning)\n",
      "C:\\Users\\kuruparans\\AppData\\Local\\conda\\conda\\envs\\cps\\lib\\site-packages\\sklearn\\base.py:306: UserWarning: Trying to unpickle estimator RandomForestRegressor from version 0.21.3 when using version 0.21.2. This might lead to breaking code or invalid results. Use at your own risk.\n",
      "  UserWarning)\n"
     ]
    },
    {
     "name": "stdout",
     "output_type": "stream",
     "text": [
      "1\n"
     ]
    },
    {
     "name": "stderr",
     "output_type": "stream",
     "text": [
      "C:\\Users\\kuruparans\\AppData\\Local\\conda\\conda\\envs\\cps\\lib\\site-packages\\sklearn\\base.py:306: UserWarning: Trying to unpickle estimator DecisionTreeRegressor from version 0.21.3 when using version 0.21.2. This might lead to breaking code or invalid results. Use at your own risk.\n",
      "  UserWarning)\n",
      "C:\\Users\\kuruparans\\AppData\\Local\\conda\\conda\\envs\\cps\\lib\\site-packages\\sklearn\\base.py:306: UserWarning: Trying to unpickle estimator RandomForestRegressor from version 0.21.3 when using version 0.21.2. This might lead to breaking code or invalid results. Use at your own risk.\n",
      "  UserWarning)\n",
      "C:\\Users\\kuruparans\\AppData\\Local\\conda\\conda\\envs\\cps\\lib\\site-packages\\sklearn\\base.py:306: UserWarning: Trying to unpickle estimator DecisionTreeRegressor from version 0.21.3 when using version 0.21.2. This might lead to breaking code or invalid results. Use at your own risk.\n",
      "  UserWarning)\n",
      "C:\\Users\\kuruparans\\AppData\\Local\\conda\\conda\\envs\\cps\\lib\\site-packages\\sklearn\\base.py:306: UserWarning: Trying to unpickle estimator RandomForestRegressor from version 0.21.3 when using version 0.21.2. This might lead to breaking code or invalid results. Use at your own risk.\n",
      "  UserWarning)\n"
     ]
    },
    {
     "name": "stdout",
     "output_type": "stream",
     "text": [
      "1\n"
     ]
    },
    {
     "name": "stderr",
     "output_type": "stream",
     "text": [
      "C:\\Users\\kuruparans\\AppData\\Local\\conda\\conda\\envs\\cps\\lib\\site-packages\\sklearn\\base.py:306: UserWarning: Trying to unpickle estimator DecisionTreeRegressor from version 0.21.3 when using version 0.21.2. This might lead to breaking code or invalid results. Use at your own risk.\n",
      "  UserWarning)\n",
      "C:\\Users\\kuruparans\\AppData\\Local\\conda\\conda\\envs\\cps\\lib\\site-packages\\sklearn\\base.py:306: UserWarning: Trying to unpickle estimator RandomForestRegressor from version 0.21.3 when using version 0.21.2. This might lead to breaking code or invalid results. Use at your own risk.\n",
      "  UserWarning)\n",
      "C:\\Users\\kuruparans\\AppData\\Local\\conda\\conda\\envs\\cps\\lib\\site-packages\\sklearn\\base.py:306: UserWarning: Trying to unpickle estimator DecisionTreeRegressor from version 0.21.3 when using version 0.21.2. This might lead to breaking code or invalid results. Use at your own risk.\n",
      "  UserWarning)\n",
      "C:\\Users\\kuruparans\\AppData\\Local\\conda\\conda\\envs\\cps\\lib\\site-packages\\sklearn\\base.py:306: UserWarning: Trying to unpickle estimator RandomForestRegressor from version 0.21.3 when using version 0.21.2. This might lead to breaking code or invalid results. Use at your own risk.\n",
      "  UserWarning)\n"
     ]
    },
    {
     "name": "stdout",
     "output_type": "stream",
     "text": [
      "1\n"
     ]
    },
    {
     "name": "stderr",
     "output_type": "stream",
     "text": [
      "C:\\Users\\kuruparans\\AppData\\Local\\conda\\conda\\envs\\cps\\lib\\site-packages\\sklearn\\base.py:306: UserWarning: Trying to unpickle estimator DecisionTreeRegressor from version 0.21.3 when using version 0.21.2. This might lead to breaking code or invalid results. Use at your own risk.\n",
      "  UserWarning)\n",
      "C:\\Users\\kuruparans\\AppData\\Local\\conda\\conda\\envs\\cps\\lib\\site-packages\\sklearn\\base.py:306: UserWarning: Trying to unpickle estimator RandomForestRegressor from version 0.21.3 when using version 0.21.2. This might lead to breaking code or invalid results. Use at your own risk.\n",
      "  UserWarning)\n",
      "C:\\Users\\kuruparans\\AppData\\Local\\conda\\conda\\envs\\cps\\lib\\site-packages\\sklearn\\base.py:306: UserWarning: Trying to unpickle estimator DecisionTreeRegressor from version 0.21.3 when using version 0.21.2. This might lead to breaking code or invalid results. Use at your own risk.\n",
      "  UserWarning)\n",
      "C:\\Users\\kuruparans\\AppData\\Local\\conda\\conda\\envs\\cps\\lib\\site-packages\\sklearn\\base.py:306: UserWarning: Trying to unpickle estimator RandomForestRegressor from version 0.21.3 when using version 0.21.2. This might lead to breaking code or invalid results. Use at your own risk.\n",
      "  UserWarning)\n"
     ]
    },
    {
     "name": "stdout",
     "output_type": "stream",
     "text": [
      "1\n"
     ]
    },
    {
     "name": "stderr",
     "output_type": "stream",
     "text": [
      "C:\\Users\\kuruparans\\AppData\\Local\\conda\\conda\\envs\\cps\\lib\\site-packages\\sklearn\\base.py:306: UserWarning: Trying to unpickle estimator DecisionTreeRegressor from version 0.21.3 when using version 0.21.2. This might lead to breaking code or invalid results. Use at your own risk.\n",
      "  UserWarning)\n",
      "C:\\Users\\kuruparans\\AppData\\Local\\conda\\conda\\envs\\cps\\lib\\site-packages\\sklearn\\base.py:306: UserWarning: Trying to unpickle estimator RandomForestRegressor from version 0.21.3 when using version 0.21.2. This might lead to breaking code or invalid results. Use at your own risk.\n",
      "  UserWarning)\n",
      "C:\\Users\\kuruparans\\AppData\\Local\\conda\\conda\\envs\\cps\\lib\\site-packages\\sklearn\\base.py:306: UserWarning: Trying to unpickle estimator DecisionTreeRegressor from version 0.21.3 when using version 0.21.2. This might lead to breaking code or invalid results. Use at your own risk.\n",
      "  UserWarning)\n",
      "C:\\Users\\kuruparans\\AppData\\Local\\conda\\conda\\envs\\cps\\lib\\site-packages\\sklearn\\base.py:306: UserWarning: Trying to unpickle estimator RandomForestRegressor from version 0.21.3 when using version 0.21.2. This might lead to breaking code or invalid results. Use at your own risk.\n",
      "  UserWarning)\n"
     ]
    },
    {
     "name": "stdout",
     "output_type": "stream",
     "text": [
      "1\n"
     ]
    },
    {
     "name": "stderr",
     "output_type": "stream",
     "text": [
      "C:\\Users\\kuruparans\\AppData\\Local\\conda\\conda\\envs\\cps\\lib\\site-packages\\sklearn\\base.py:306: UserWarning: Trying to unpickle estimator DecisionTreeRegressor from version 0.21.3 when using version 0.21.2. This might lead to breaking code or invalid results. Use at your own risk.\n",
      "  UserWarning)\n",
      "C:\\Users\\kuruparans\\AppData\\Local\\conda\\conda\\envs\\cps\\lib\\site-packages\\sklearn\\base.py:306: UserWarning: Trying to unpickle estimator RandomForestRegressor from version 0.21.3 when using version 0.21.2. This might lead to breaking code or invalid results. Use at your own risk.\n",
      "  UserWarning)\n",
      "C:\\Users\\kuruparans\\AppData\\Local\\conda\\conda\\envs\\cps\\lib\\site-packages\\sklearn\\base.py:306: UserWarning: Trying to unpickle estimator DecisionTreeRegressor from version 0.21.3 when using version 0.21.2. This might lead to breaking code or invalid results. Use at your own risk.\n",
      "  UserWarning)\n",
      "C:\\Users\\kuruparans\\AppData\\Local\\conda\\conda\\envs\\cps\\lib\\site-packages\\sklearn\\base.py:306: UserWarning: Trying to unpickle estimator RandomForestRegressor from version 0.21.3 when using version 0.21.2. This might lead to breaking code or invalid results. Use at your own risk.\n",
      "  UserWarning)\n"
     ]
    },
    {
     "name": "stdout",
     "output_type": "stream",
     "text": [
      "1\n"
     ]
    },
    {
     "name": "stderr",
     "output_type": "stream",
     "text": [
      "C:\\Users\\kuruparans\\AppData\\Local\\conda\\conda\\envs\\cps\\lib\\site-packages\\sklearn\\base.py:306: UserWarning: Trying to unpickle estimator DecisionTreeRegressor from version 0.21.3 when using version 0.21.2. This might lead to breaking code or invalid results. Use at your own risk.\n",
      "  UserWarning)\n",
      "C:\\Users\\kuruparans\\AppData\\Local\\conda\\conda\\envs\\cps\\lib\\site-packages\\sklearn\\base.py:306: UserWarning: Trying to unpickle estimator RandomForestRegressor from version 0.21.3 when using version 0.21.2. This might lead to breaking code or invalid results. Use at your own risk.\n",
      "  UserWarning)\n",
      "C:\\Users\\kuruparans\\AppData\\Local\\conda\\conda\\envs\\cps\\lib\\site-packages\\sklearn\\base.py:306: UserWarning: Trying to unpickle estimator DecisionTreeRegressor from version 0.21.3 when using version 0.21.2. This might lead to breaking code or invalid results. Use at your own risk.\n",
      "  UserWarning)\n",
      "C:\\Users\\kuruparans\\AppData\\Local\\conda\\conda\\envs\\cps\\lib\\site-packages\\sklearn\\base.py:306: UserWarning: Trying to unpickle estimator RandomForestRegressor from version 0.21.3 when using version 0.21.2. This might lead to breaking code or invalid results. Use at your own risk.\n",
      "  UserWarning)\n"
     ]
    },
    {
     "name": "stdout",
     "output_type": "stream",
     "text": [
      "1\n"
     ]
    },
    {
     "name": "stderr",
     "output_type": "stream",
     "text": [
      "C:\\Users\\kuruparans\\AppData\\Local\\conda\\conda\\envs\\cps\\lib\\site-packages\\sklearn\\base.py:306: UserWarning: Trying to unpickle estimator DecisionTreeRegressor from version 0.21.3 when using version 0.21.2. This might lead to breaking code or invalid results. Use at your own risk.\n",
      "  UserWarning)\n",
      "C:\\Users\\kuruparans\\AppData\\Local\\conda\\conda\\envs\\cps\\lib\\site-packages\\sklearn\\base.py:306: UserWarning: Trying to unpickle estimator RandomForestRegressor from version 0.21.3 when using version 0.21.2. This might lead to breaking code or invalid results. Use at your own risk.\n",
      "  UserWarning)\n",
      "C:\\Users\\kuruparans\\AppData\\Local\\conda\\conda\\envs\\cps\\lib\\site-packages\\sklearn\\base.py:306: UserWarning: Trying to unpickle estimator DecisionTreeRegressor from version 0.21.3 when using version 0.21.2. This might lead to breaking code or invalid results. Use at your own risk.\n",
      "  UserWarning)\n",
      "C:\\Users\\kuruparans\\AppData\\Local\\conda\\conda\\envs\\cps\\lib\\site-packages\\sklearn\\base.py:306: UserWarning: Trying to unpickle estimator RandomForestRegressor from version 0.21.3 when using version 0.21.2. This might lead to breaking code or invalid results. Use at your own risk.\n",
      "  UserWarning)\n",
      "127.0.0.1 - - [30/Jan/2020 12:45:55] \"\u001b[37mGET /predic1 HTTP/1.1\u001b[0m\" 200 -\n",
      "127.0.0.1 - - [30/Jan/2020 12:47:39] \"\u001b[32mPOST /discount HTTP/1.1\u001b[0m\" 302 -\n"
     ]
    },
    {
     "name": "stdout",
     "output_type": "stream",
     "text": [
      "b'{\\n\\t\"Year\":\"2019\", \"month\":\"Mar\",\"week\":\"2,3\",\"salespoint\":\"CADAM\", \"discount\":\"1\"\\n}'\n",
      "{'Year': '2019', 'month': 'Mar', 'week': '2,3', 'salespoint': 'CADAM', 'discount': '1'}\n",
      "2019 Mar 2,3 CADAM 1\n",
      "['1']\n",
      "2019 Mar ['2', '3'] CADAM ['1']\n",
      "1\n"
     ]
    },
    {
     "name": "stderr",
     "output_type": "stream",
     "text": [
      "C:\\Users\\kuruparans\\AppData\\Local\\conda\\conda\\envs\\cps\\lib\\site-packages\\sklearn\\base.py:306: UserWarning: Trying to unpickle estimator DecisionTreeRegressor from version 0.21.3 when using version 0.21.2. This might lead to breaking code or invalid results. Use at your own risk.\n",
      "  UserWarning)\n",
      "C:\\Users\\kuruparans\\AppData\\Local\\conda\\conda\\envs\\cps\\lib\\site-packages\\sklearn\\base.py:306: UserWarning: Trying to unpickle estimator RandomForestRegressor from version 0.21.3 when using version 0.21.2. This might lead to breaking code or invalid results. Use at your own risk.\n",
      "  UserWarning)\n"
     ]
    },
    {
     "name": "stdout",
     "output_type": "stream",
     "text": [
      "[[4.93510667e+03 2.33533333e+01 0.00000000e+00 4.36016000e+04\n",
      "  1.18950000e+02 1.00692433e+04 1.00791000e+03 1.50000000e-01\n",
      "  3.33333333e-03 1.36887333e+03 5.04400000e+01 0.00000000e+00\n",
      "  6.18007000e+03 0.00000000e+00 9.87755667e+03 1.97684667e+03\n",
      "  7.87553333e+02 0.00000000e+00 1.48125667e+04 6.64056667e+02\n",
      "  3.33333333e-02]]\n"
     ]
    },
    {
     "name": "stderr",
     "output_type": "stream",
     "text": [
      "C:\\Users\\kuruparans\\AppData\\Local\\conda\\conda\\envs\\cps\\lib\\site-packages\\sklearn\\base.py:306: UserWarning: Trying to unpickle estimator DecisionTreeRegressor from version 0.21.3 when using version 0.21.2. This might lead to breaking code or invalid results. Use at your own risk.\n",
      "  UserWarning)\n",
      "C:\\Users\\kuruparans\\AppData\\Local\\conda\\conda\\envs\\cps\\lib\\site-packages\\sklearn\\base.py:306: UserWarning: Trying to unpickle estimator RandomForestRegressor from version 0.21.3 when using version 0.21.2. This might lead to breaking code or invalid results. Use at your own risk.\n",
      "  UserWarning)\n",
      "127.0.0.1 - - [30/Jan/2020 12:47:46] \"\u001b[37mGET /predic2 HTTP/1.1\u001b[0m\" 200 -\n"
     ]
    },
    {
     "name": "stdout",
     "output_type": "stream",
     "text": [
      "[[5.07814000e+03 2.03200000e+01 0.00000000e+00 4.83344733e+04\n",
      "  1.26803333e+02 9.68377000e+03 1.18069000e+03 4.49000000e+00\n",
      "  9.97666667e+00 1.48824000e+03 6.21066667e+01 0.00000000e+00\n",
      "  6.70927333e+03 0.00000000e+00 1.25058500e+04 2.37043667e+03\n",
      "  1.21710667e+03 0.00000000e+00 1.80447200e+04 7.86710000e+02\n",
      "  3.33333333e-02]]\n",
      "1\n",
      "[{'Year': '2019', 'month': 'Mar', 'week': '2,3', 'salespoint': 'CADAM', 'Discount': '1', 'Walltile_size': 'WallTiles A', 'Predicted_sales': 10013.2466666667}, {'Year': '2019', 'month': 'Mar', 'week': '2,3', 'salespoint': 'CADAM', 'Discount': '1', 'Walltile_size': 'WallTiles B', 'Predicted_sales': 43.6733333333}, {'Year': '2019', 'month': 'Mar', 'week': '2,3', 'salespoint': 'CADAM', 'Discount': '1', 'Walltile_size': 'WallTiles C', 'Predicted_sales': 0.0}, {'Year': '2019', 'month': 'Mar', 'week': '2,3', 'salespoint': 'CADAM', 'Discount': '1', 'Walltile_size': 'WallTiles D', 'Predicted_sales': 91936.0733333333}, {'Year': '2019', 'month': 'Mar', 'week': '2,3', 'salespoint': 'CADAM', 'Discount': '1', 'Walltile_size': 'WallTiles E', 'Predicted_sales': 245.7533333333}, {'Year': '2019', 'month': 'Mar', 'week': '2,3', 'salespoint': 'CADAM', 'Discount': '1', 'Walltile_size': 'WallTiles F', 'Predicted_sales': 19753.0133333333}, {'Year': '2019', 'month': 'Mar', 'week': '2,3', 'salespoint': 'CADAM', 'Discount': '1', 'Walltile_size': 'WallTiles G', 'Predicted_sales': 2188.6}, {'Year': '2019', 'month': 'Mar', 'week': '2,3', 'salespoint': 'CADAM', 'Discount': '1', 'Walltile_size': 'WallTiles H', 'Predicted_sales': 4.64}, {'Year': '2019', 'month': 'Mar', 'week': '2,3', 'salespoint': 'CADAM', 'Discount': '1', 'Walltile_size': 'WallTiles I', 'Predicted_sales': 9.98}, {'Year': '2019', 'month': 'Mar', 'week': '2,3', 'salespoint': 'CADAM', 'Discount': '1', 'Walltile_size': 'WallTiles K', 'Predicted_sales': 2857.1133333333}, {'Year': '2019', 'month': 'Mar', 'week': '2,3', 'salespoint': 'CADAM', 'Discount': '1', 'Walltile_size': 'WallTiles L', 'Predicted_sales': 112.5466666667}, {'Year': '2019', 'month': 'Mar', 'week': '2,3', 'salespoint': 'CADAM', 'Discount': '1', 'Walltile_size': 'WallTiles M', 'Predicted_sales': 0.0}, {'Year': '2019', 'month': 'Mar', 'week': '2,3', 'salespoint': 'CADAM', 'Discount': '1', 'Walltile_size': 'WallTiles P', 'Predicted_sales': 12889.3433333333}, {'Year': '2019', 'month': 'Mar', 'week': '2,3', 'salespoint': 'CADAM', 'Discount': '1', 'Walltile_size': 'WallTiles Q', 'Predicted_sales': 0.0}, {'Year': '2019', 'month': 'Mar', 'week': '2,3', 'salespoint': 'CADAM', 'Discount': '1', 'Walltile_size': 'WallTiles R', 'Predicted_sales': 22383.4066666667}, {'Year': '2019', 'month': 'Mar', 'week': '2,3', 'salespoint': 'CADAM', 'Discount': '1', 'Walltile_size': 'WallTiles S', 'Predicted_sales': 4347.2833333333}, {'Year': '2019', 'month': 'Mar', 'week': '2,3', 'salespoint': 'CADAM', 'Discount': '1', 'Walltile_size': 'WallTiles T', 'Predicted_sales': 2004.66}, {'Year': '2019', 'month': 'Mar', 'week': '2,3', 'salespoint': 'CADAM', 'Discount': '1', 'Walltile_size': 'WallTiles U', 'Predicted_sales': 0.0}, {'Year': '2019', 'month': 'Mar', 'week': '2,3', 'salespoint': 'CADAM', 'Discount': '1', 'Walltile_size': 'WallTiles V', 'Predicted_sales': 32857.2866666667}, {'Year': '2019', 'month': 'Mar', 'week': '2,3', 'salespoint': 'CADAM', 'Discount': '1', 'Walltile_size': 'WallTiles W', 'Predicted_sales': 1450.7666666667}, {'Year': '2019', 'month': 'Mar', 'week': '2,3', 'salespoint': 'CADAM', 'Discount': '1', 'Walltile_size': 'WallTiles Y', 'Predicted_sales': 0.0666666667}]\n"
     ]
    }
   ],
   "source": [
    "#!/usr/bin/python3\n",
    "from flask import Flask, request, jsonify,render_template,url_for, redirect\n",
    "from flask_restful import Resource, Api\n",
    "from sqlalchemy import create_engine\n",
    "from json import dumps\n",
    "import json\n",
    "import pandas as pd\n",
    "coordinates = pd.read_csv(\"C:\\\\Users\\\\kuruparans\\\\Desktop\\\\Sales_forecasting_model\\\\coordinates.csv\") \n",
    "\n",
    "salespo=[]\n",
    "spNum = {'CABLM':0, 'CADAM':1, 'CAEHE':2, 'CAGOG':3, 'CAKAN':4, 'CAMAT':5, 'CAMTG':6, 'CAPEL':7, 'CARAP':8, 'DBALU':9, 'DBANG':10, 'DBANU':11, 'DBBAN':12,\n",
    "        'DBCOL':13, 'DBDAM':14, 'DBDIG':15, 'DBGAL':16, 'DBHAN':17, 'DBHOR':18, 'DBJF1':19, 'DBJF2':20, 'DBKEG':21, 'DBKIR':22, 'DBKUR':23, 'DBMAT':24,\n",
    "        'DBMHI':25, 'DBMTU':26, 'DBNAR':27, 'DBNEG':28, 'DBNUG':29, 'DBPER':30, 'DBPIL':31, 'DBRAP':32, 'DBSAM':33, 'DBTHI':34, 'DBWEN':35, 'DELUN':36,\n",
    "        'FDALU':37, 'FDAMB':38, 'FDAMP':39, 'FDAMT':40, 'FDAVI':41, 'FDAVS':42, 'FDBA1':43, 'FDBA2':44, 'FDBAD':45, 'FDBAL':46, 'FDBDU':47, 'FDCHI':48,\n",
    "        'FDCHW':49, 'FDDAM':50, 'FDEMB':51, 'FDGAL':52, 'FDGAM':53, 'FDGAP':54, 'FDHOR':55, 'FDHRN':56, 'FDJAF':57, 'FDJEL':58, 'FDJFN':59, 'FDKAD':60,\n",
    "        'FDKAL':61, 'FDKAN':62, 'FDKDW':63, 'FDKEG':64, 'FDKOT':65, 'FDKUR':66, 'FDMAG':67, 'FDMAL':68, 'FDMAT':69, 'FDMHI':70, 'FDMIN':71, 'FDMON':72,\n",
    "        'FDMOT':73, 'FDMTL':74, 'FDMTU':75, 'FDNEG':76, 'FDNIT':77, 'FDPER':78, 'FDPND':79, 'FDRAT':80, 'FDVAV':81, 'FDWAP':82, 'FDWAR':83, 'FDWAT':84,\n",
    "        'FDWEL':85, 'FDWEN':86, 'JWSR':87, 'KDSR':88, 'LWSR':89}\n",
    "for key,value in spNum.items(): \n",
    "    temp = key\n",
    "    salespo.append(temp)\n",
    "Filtered_coordinates=coordinates.loc[coordinates['SalesPoint'].isin(salespo)]\n",
    "\n",
    "\n",
    "#db_connect = create_engine('sqlite:///C:/Users/kuruparans/Desktop/python_rest_flask-master/chinook.db')\n",
    "app = Flask(__name__)\n",
    "api = Api(app)\n",
    "\n",
    "\n",
    "\n",
    "#Year=2018\n",
    "#month=\"Apr\"\n",
    "#week=\"1,2,3,4\"\n",
    "#salespoint=\"CADAM\"\n",
    "\n",
    "@app.route('/')\n",
    "def home():\n",
    "    return render_template(\"home.html\")   \n",
    "\n",
    "@app.route('/mapp', methods=['POST'])\n",
    "def mapp():\n",
    "    global Year,month,salespoint,week,discounts\n",
    "    print(request.data)\n",
    "\n",
    "    jsonfiles = json.loads(request.data)\n",
    "    print(jsonfiles)\n",
    "\n",
    "    Year = jsonfiles[\"Year\"]\n",
    "    month = jsonfiles[\"month\"]\n",
    "    salespoint = jsonfiles[\"salespoint\"]\n",
    "    week=jsonfiles[\"week\"]\n",
    "    discounts = jsonfiles[\"discount\"]\n",
    "\n",
    "\n",
    "    processed_text= Year+\" \"+month+\" \"+week+\" \"+salespoint\n",
    "    print(Year,month,week,salespoint,discounts)\n",
    "    return redirect(url_for('predic1'))\n",
    "\n",
    "\n",
    "\n",
    "class predic1(Resource):\n",
    "    def get(self):\n",
    "  \n",
    "\n",
    "        def ForecastWalltiles(year, month, week, weeksToNewyear, weeksToChristmas, channel1, channel2, channel3, channel4, channel5, channel6, channel7, \n",
    "                            channel8, discount, salespoint):\n",
    "\n",
    "            spNum = {'CABLM':0, 'CADAM':1, 'CAEHE':2, 'CAGOG':3, 'CAKAN':4, 'CAMAT':5, 'CAMTG':6, 'CAPEL':7, 'CARAP':8, 'DBALU':9, 'DBANG':10, 'DBANU':11, 'DBBAN':12,\n",
    "                    'DBCOL':13, 'DBDAM':14, 'DBDIG':15, 'DBGAL':16, 'DBHAN':17, 'DBHOR':18, 'DBJF1':19, 'DBJF2':20, 'DBKEG':21, 'DBKIR':22, 'DBKUR':23, 'DBMAT':24,\n",
    "                    'DBMHI':25, 'DBMTU':26, 'DBNAR':27, 'DBNEG':28, 'DBNUG':29, 'DBPER':30, 'DBPIL':31, 'DBRAP':32, 'DBSAM':33, 'DBTHI':34, 'DBWEN':35, 'DELUN':36,\n",
    "                    'FDALU':37, 'FDAMB':38, 'FDAMP':39, 'FDAMT':40, 'FDAVI':41, 'FDAVS':42, 'FDBA1':43, 'FDBA2':44, 'FDBAD':45, 'FDBAL':46, 'FDBDU':47, 'FDCHI':48,\n",
    "                    'FDCHW':49, 'FDDAM':50, 'FDEMB':51, 'FDGAL':52, 'FDGAM':53, 'FDGAP':54, 'FDHOR':55, 'FDHRN':56, 'FDJAF':57, 'FDJEL':58, 'FDJFN':59, 'FDKAD':60,\n",
    "                    'FDKAL':61, 'FDKAN':62, 'FDKDW':63, 'FDKEG':64, 'FDKOT':65, 'FDKUR':66, 'FDMAG':67, 'FDMAL':68, 'FDMAT':69, 'FDMHI':70, 'FDMIN':71, 'FDMON':72,\n",
    "                    'FDMOT':73, 'FDMTL':74, 'FDMTU':75, 'FDNEG':76, 'FDNIT':77, 'FDPER':78, 'FDPND':79, 'FDRAT':80, 'FDVAV':81, 'FDWAP':82, 'FDWAR':83, 'FDWAT':84,\n",
    "                    'FDWEL':85, 'FDWEN':86, 'JWSR':87, 'KDSR':88, 'LWSR':89}\n",
    "\n",
    "            yearsNum = {'2013':0, '2014':1, '2015':2, '2016':3, '2017':4, '2018':5, '2019':6}\n",
    "            #monthsNum = {'Jan':0, 'Feb':1, 'Mar':2, 'Apr':3, 'May':4, 'Jun':5, 'Jul':6, 'Aug':7, 'Sep':8, 'Oct':9, 'Nov':10, 'Dec':11}\n",
    "\n",
    "            monthColumns = [0] * 12\n",
    "            monthColumns[month-1] = 1\n",
    "            #print (monthColumns)\n",
    "\n",
    "            salespointColumns = [0] * 90\n",
    "            salespointColumns[spNum[salespoint]] = 1\n",
    "            #print (salespointColumns)\n",
    "\n",
    "            weekColumns = [0] * 52\n",
    "            weekColumns[week-1] = 1\n",
    "            #print (weekColumns)\n",
    "\n",
    "            X_test = np.array( [yearsNum[str(year)]] + monthColumns + weekColumns + [weeksToNewyear] + [weeksToChristmas] + [channel1] + [channel2] + [channel3] + [channel4] + \n",
    "                            [channel5] + [channel6] + [channel7] + [channel8] + [discount] + salespointColumns )\n",
    "\n",
    "            #joblib.dump(regressor, 'C:/Users/ChamithM/Desktop/Bestmodels/RFmodel.pkl') \n",
    "            RandomForest = joblib.load('C:/Users/kuruparans/Desktop/Sales_forecasting_model/models/Walltiles_RFmodel.pkl')  \n",
    "\n",
    "            X_test = X_test.reshape(1, -1)\n",
    "            y_pred = RandomForest.predict(X_test)\n",
    "            #print (y_pred)\n",
    "            y_pred_arr = y_pred.tolist()\n",
    "            return (y_pred_arr)\n",
    "\n",
    "        import numpy as np\n",
    "        import pandas as pd\n",
    "        import calendar\n",
    "        import datetime\n",
    "        from operator import add\n",
    "        from sklearn.externals import joblib\n",
    "        predicted_sum = [0]*21\n",
    "        con = True\n",
    "\n",
    "        ############### Take inputs ##############\n",
    "\n",
    "        whichYear = int(Year)\n",
    "        whichMonth = (month)\n",
    "        whichWeeks = (week).split(',')  #Enter desired week numbers(1,2,3,4,5,6) comma separatedly or \"Entire month\"\n",
    "        whichdiscount = (discounts).split(',')  #Enter desired week numbers(1,2,3,4,5,6) comma separatedly or \"Entire month\"\n",
    "        print(whichdiscount)\n",
    "        whichSalespoint = salespoint\n",
    "        print(whichYear,whichMonth,whichWeeks,whichSalespoint,whichdiscount )\n",
    "        ############################################\n",
    "\n",
    "        ####### Channel percents & Discount ########\n",
    "        #[21.302184906234302, 2207.568840961414, 4079.5170408963013, 121.23482218364178, 502.41375103983694, 12024.250246478477, 113.71311353409266, 0.0]\n",
    "        #[0.001117, 0.115761, 0.213923, 0.006357, 0.026346, 0.630532, 0.005963, 0.000000]\n",
    "        channel1 = 0.001117\n",
    "        channel2 = 0.115761\n",
    "        channel3 = 0.213923\n",
    "        channel4 = 0.006357\n",
    "        channel5 = 0.026346\n",
    "        channel6 = 0.630532\n",
    "        channel7 = 0.005963\n",
    "        channel8 = 0.000000\n",
    "        \n",
    "        discount = whichdiscount[0]\n",
    "        ############################################ \n",
    "\n",
    "        ############# Find week number #############\n",
    "        monthsDic = {'Jan':1, 'Feb':2, 'Mar':3, 'Apr':4, 'May':5, 'Jun':6, 'Jul':7, 'Aug':8, 'Sep':9, 'Oct':10, 'Nov':11, 'Dec':12}\n",
    "        whichMonthNum = monthsDic[whichMonth]\n",
    "        #print (whichMonthNum)\n",
    "\n",
    "        cal = calendar.Calendar()\n",
    "        weeksInMonth = cal.monthdayscalendar(whichYear, whichMonthNum)\n",
    "        #print (weeksInMonth)\n",
    "\n",
    "        if (whichWeeks[0]==\"Entire month\"):\n",
    "            weeksNeeded = [i for i in range(1,len(weeksInMonth)+1)]\n",
    "            if (weeksInMonth[0].count(0) > 3):\n",
    "                del weeksNeeded[0]\n",
    "            if (weeksInMonth[-1].count(0) > 3):\n",
    "                del weeksNeeded[-1]\n",
    "        else:\n",
    "            weeksNeeded = [int(i) for i in whichWeeks]   \n",
    "        #print (weeksNeeded)\n",
    "        c=0\n",
    "        for whichSalespoint in salespo:\n",
    "            print(discount)\n",
    "            predicted_sum = [0]*21\n",
    "            con = True\n",
    "\n",
    "            for x in weeksNeeded:\n",
    "                if (x>len(weeksInMonth)):\n",
    "                    con = False\n",
    "                    break\n",
    "                if (x == len(weeksInMonth) and weeksInMonth[-1].count(0) != 0):\n",
    "                    day = weeksInMonth[-1].count(0)\n",
    "                    #print (day)\n",
    "                    if (whichMonthNum!=12):\n",
    "                        weekNumber = datetime.date(whichYear, whichMonthNum+1, day).isocalendar()[1]\n",
    "                    else:\n",
    "                        weekNumber = datetime.date(whichYear+1, 1, day).isocalendar()[1]\n",
    "                else:\n",
    "                    lastDayOfWeek = weeksInMonth[x-1][6]\n",
    "                    #print (lastDayOfWeek)\n",
    "                    weekNumber = datetime.date(whichYear, whichMonthNum, lastDayOfWeek).isocalendar()[1]\n",
    "                if (weekNumber==53):\n",
    "                    weekNumber = 52\n",
    "                #print (weekNumber)\n",
    "                ############################################\n",
    "\n",
    "                ############# Weeks to New year ############\n",
    "                weeks_per_year = datetime.date(whichYear, 12, 28).isocalendar()[1]\n",
    "                newyear_week = datetime.date(whichYear, 4, 14).isocalendar()[1]\n",
    "\n",
    "                if (weekNumber<=newyear_week):\n",
    "                    weeksToNewyear = newyear_week - weekNumber\n",
    "                else:\n",
    "                    newyear_week = datetime.date(whichYear+1, 4, 14).isocalendar()[1]\n",
    "                    weeksToNewyear = newyear_week + (weeks_per_year-weekNumber)\n",
    "                #print (weeksToNewyear)\n",
    "                ############################################\n",
    "\n",
    "                ############ Weeks to Christmas ############\n",
    "                christmas_week = datetime.date(whichYear, 12, 25).isocalendar()[1]\n",
    "\n",
    "                if (weekNumber<=christmas_week):\n",
    "                    weeksToChristmas = christmas_week - weekNumber\n",
    "                else:\n",
    "                    christmas_week = datetime.date(whichYear+1, 12, 25).isocalendar()[1]\n",
    "                    weeksToChristmas = christmas_week\n",
    "                #print (weeksToChristmas)\n",
    "                ############################################\n",
    "\n",
    "                y_predicted = ForecastWalltiles( whichYear, whichMonthNum, weekNumber, weeksToNewyear, weeksToChristmas, channel1, channel2, channel3, channel4, \n",
    "                                                channel5, channel6, channel7, channel8, discount, whichSalespoint ) \n",
    "\n",
    "                predicted_sum = list(map(add, predicted_sum, y_predicted[0]))\n",
    "                #print (predicted_sum)\n",
    "                predicted_sum = predicted_sum[:]\n",
    "           # df_discount=[df_discount+predicted_sum]\n",
    "       # print(df_discount)\n",
    "            \n",
    "        \n",
    "            if (con):\n",
    "                #print (whichSalespoint)\n",
    "                reloc=Filtered_coordinates.loc[coordinates['SalesPoint']==whichSalespoint]\n",
    "                Address=reloc['Address']\n",
    "                Lat=reloc['Latitude']\n",
    "                Long=reloc['Longitude']\n",
    "                dicWall = {'Year':[Year]*21,'month':[month]*21,'week':[week]*21,'salespoint':[salespoint]*21,'Address':[Address]*21, 'Long':[Long]*21, 'Lat':[Lat]*21,'Discount':[discount]*21, 'Walltile_size':['WallTiles A','WallTiles B','WallTiles C','WallTiles D','WallTiles E','WallTiles F','WallTiles G','WallTiles H',\n",
    "                        'WallTiles I','WallTiles K','WallTiles L','WallTiles M','WallTiles P','WallTiles Q','WallTiles R','WallTiles S','WallTiles T',\n",
    "                        'WallTiles U','WallTiles V','WallTiles W','WallTiles Y'], 'Predicted_sales':predicted_sum}\n",
    "                dataFrameWall = pd.DataFrame(dicWall)\n",
    "                #print(dataFrameWall)\n",
    "                if c==0:\n",
    "                    df_temp=dataFrameWall\n",
    "                    c=1\n",
    "                else:\n",
    "\n",
    "\n",
    "                #result = pd.concat(df_discount, ignore_index=True)\n",
    "                    df_temp= df_temp.append([dataFrameWall])\n",
    "                #print(df_temp)\n",
    "                \n",
    "                jsonfiles = json.loads( df_temp.to_json(orient='records'))\n",
    "\n",
    "                #print(jsonfiles)\n",
    "            else:\n",
    "                print ('Your one of the weeks is not in the month')\n",
    "        df_temp.to_excel(\"C:/Users/kuruparans/Desktop/Sales_forecasting_model/WithAddressplot.xlsx\")\n",
    "\n",
    "        return jsonfiles       \n",
    "\n",
    "\n",
    "\n",
    "\n",
    "\n",
    "\n",
    "api.add_resource(predic1, '/predic1') # Route_1\n",
    "\n",
    "# class Employees(Resource):\n",
    "#     def get(self):\n",
    "#         conn = db_connect.connect() # connect to database\n",
    "#         query = conn.execute(\"select * from employees\") # This line performs query and returns json result\n",
    "#         return {'employees': [i[0] for i in query.cursor.fetchall()]} # Fetches first column that is Employee ID\n",
    "    \n",
    "#     def post(self):\n",
    "#         conn = db_connect.connect()\n",
    "#         print(request.json)\n",
    "#         LastName = request.json['LastName']\n",
    "#         FirstName = request.json['FirstName']\n",
    "#         Title = request.json['Title']\n",
    "#         ReportsTo = request.json['ReportsTo']\n",
    "#         BirthDate = request.json['BirthDate']\n",
    "#         HireDate = request.json['HireDate']\n",
    "#         Address = request.json['Address']\n",
    "#         City = request.json['City']\n",
    "#         State = request.json['State']\n",
    "#         Country = request.json['Country']\n",
    "#         PostalCode = request.json['PostalCode']\n",
    "#         Phone = request.json['Phone']\n",
    "#         Fax = request.json['Fax']\n",
    "#         Email = request.json['Email']\n",
    "#         query = conn.execute(\"insert into employees values(null,'{0}','{1}','{2}','{3}', \\\n",
    "#                              '{4}','{5}','{6}','{7}','{8}','{9}','{10}','{11}','{12}', \\\n",
    "#                              '{13}')\".format(LastName,FirstName,Title,\n",
    "#                              ReportsTo, BirthDate, HireDate, Address,\n",
    "#                              City, State, Country, PostalCode, Phone, Fax,\n",
    "#                              Email))\n",
    "#         return {'status':'success'}\n",
    "\n",
    "    \n",
    "# class Tracks(Resource):\n",
    "#     def get(self):\n",
    "#         conn = db_connect.connect()\n",
    "#         query = conn.execute(\"select trackid, name, composer, unitprice from tracks;\")\n",
    "#         result = {'data': [dict(zip(tuple (query.keys()) ,i)) for i in query.cursor]}\n",
    "#         return jsonify(result)\n",
    "\n",
    "    \n",
    "# class Employees_Name(Resource):\n",
    "#     def get(self, employee_id):\n",
    "#         conn = db_connect.connect()\n",
    "#         query = conn.execute(\"select * from employees where EmployeeId =%d \"  %int(employee_id))\n",
    "#         result = {'data': [dict(zip(tuple (query.keys()) ,i)) for i in query.cursor]}\n",
    "#         return jsonify(result)\n",
    "# api.add_resource(Employees, '/employees') # Route_1\n",
    "# api.add_resource(Tracks, '/tracks') # Route_2\n",
    "# api.add_resource(Employees_Name, '/employees/<employee_id>') # Route_3\n",
    "\n",
    "@app.route('/discount', methods=['POST'])\n",
    "def discount():\n",
    "    global Year,month,salespoint,week,discounts\n",
    "    print(request.data)\n",
    "\n",
    "    jsonfiles = json.loads(request.data)\n",
    "    print(jsonfiles)\n",
    "\n",
    "    Year = jsonfiles[\"Year\"]\n",
    "    month = jsonfiles[\"month\"]\n",
    "    salespoint = jsonfiles[\"salespoint\"]\n",
    "    week=jsonfiles[\"week\"]\n",
    "    discounts = jsonfiles[\"discount\"]\n",
    "\n",
    "\n",
    "    processed_text= Year+\" \"+month+\" \"+week+\" \"+salespoint\n",
    "    print(Year,month,week,salespoint,discounts)\n",
    "    return redirect(url_for('predic2'))\n",
    "\n",
    "\n",
    "\n",
    "class predic2(Resource):\n",
    "    def get(self):\n",
    "  \n",
    "\n",
    "        def ForecastWalltiles(year, month, week, weeksToNewyear, weeksToChristmas, channel1, channel2, channel3, channel4, channel5, channel6, channel7, \n",
    "                            channel8, discount, salespoint):\n",
    "\n",
    "            spNum = {'CABLM':0, 'CADAM':1, 'CAEHE':2, 'CAGOG':3, 'CAKAN':4, 'CAMAT':5, 'CAMTG':6, 'CAPEL':7, 'CARAP':8, 'DBALU':9, 'DBANG':10, 'DBANU':11, 'DBBAN':12,\n",
    "                    'DBCOL':13, 'DBDAM':14, 'DBDIG':15, 'DBGAL':16, 'DBHAN':17, 'DBHOR':18, 'DBJF1':19, 'DBJF2':20, 'DBKEG':21, 'DBKIR':22, 'DBKUR':23, 'DBMAT':24,\n",
    "                    'DBMHI':25, 'DBMTU':26, 'DBNAR':27, 'DBNEG':28, 'DBNUG':29, 'DBPER':30, 'DBPIL':31, 'DBRAP':32, 'DBSAM':33, 'DBTHI':34, 'DBWEN':35, 'DELUN':36,\n",
    "                    'FDALU':37, 'FDAMB':38, 'FDAMP':39, 'FDAMT':40, 'FDAVI':41, 'FDAVS':42, 'FDBA1':43, 'FDBA2':44, 'FDBAD':45, 'FDBAL':46, 'FDBDU':47, 'FDCHI':48,\n",
    "                    'FDCHW':49, 'FDDAM':50, 'FDEMB':51, 'FDGAL':52, 'FDGAM':53, 'FDGAP':54, 'FDHOR':55, 'FDHRN':56, 'FDJAF':57, 'FDJEL':58, 'FDJFN':59, 'FDKAD':60,\n",
    "                    'FDKAL':61, 'FDKAN':62, 'FDKDW':63, 'FDKEG':64, 'FDKOT':65, 'FDKUR':66, 'FDMAG':67, 'FDMAL':68, 'FDMAT':69, 'FDMHI':70, 'FDMIN':71, 'FDMON':72,\n",
    "                    'FDMOT':73, 'FDMTL':74, 'FDMTU':75, 'FDNEG':76, 'FDNIT':77, 'FDPER':78, 'FDPND':79, 'FDRAT':80, 'FDVAV':81, 'FDWAP':82, 'FDWAR':83, 'FDWAT':84,\n",
    "                    'FDWEL':85, 'FDWEN':86, 'JWSR':87, 'KDSR':88, 'LWSR':89}\n",
    "\n",
    "            yearsNum = {'2013':0, '2014':1, '2015':2, '2016':3, '2017':4, '2018':5, '2019':6}\n",
    "            #monthsNum = {'Jan':0, 'Feb':1, 'Mar':2, 'Apr':3, 'May':4, 'Jun':5, 'Jul':6, 'Aug':7, 'Sep':8, 'Oct':9, 'Nov':10, 'Dec':11}\n",
    "\n",
    "            monthColumns = [0] * 12\n",
    "            monthColumns[month-1] = 1\n",
    "            #print (monthColumns)\n",
    "\n",
    "            salespointColumns = [0] * 90\n",
    "            salespointColumns[spNum[salespoint]] = 1\n",
    "            #print (salespointColumns)\n",
    "\n",
    "            weekColumns = [0] * 52\n",
    "            weekColumns[week-1] = 1\n",
    "            #print (weekColumns)\n",
    "\n",
    "            X_test = np.array( [yearsNum[str(year)]] + monthColumns + weekColumns + [weeksToNewyear] + [weeksToChristmas] + [channel1] + [channel2] + [channel3] + [channel4] + \n",
    "                            [channel5] + [channel6] + [channel7] + [channel8] + [discount] + salespointColumns )\n",
    "\n",
    "            #joblib.dump(regressor, 'C:/Users/ChamithM/Desktop/Bestmodels/RFmodel.pkl') \n",
    "            RandomForest = joblib.load('C:/Users/kuruparans/Desktop/Sales_forecasting_model/models/Walltiles_RFmodel.pkl')  \n",
    "\n",
    "            X_test = X_test.reshape(1, -1)\n",
    "            y_pred = RandomForest.predict(X_test)\n",
    "            print (y_pred)\n",
    "            y_pred_arr = y_pred.tolist()\n",
    "            return (y_pred_arr)\n",
    "\n",
    "        import numpy as np\n",
    "        import pandas as pd\n",
    "        import calendar\n",
    "        import datetime\n",
    "        from operator import add\n",
    "        from sklearn.externals import joblib\n",
    "        predicted_sum = [0]*21\n",
    "        con = True\n",
    "\n",
    "        ############### Take inputs ##############\n",
    "\n",
    "        whichYear = int(Year)\n",
    "        whichMonth = (month)\n",
    "        whichWeeks = (week).split(',')  #Enter desired week numbers(1,2,3,4,5,6) comma separatedly or \"Entire month\"\n",
    "        whichdiscount = (discounts).split(',')  #Enter desired week numbers(1,2,3,4,5,6) comma separatedly or \"Entire month\"\n",
    "        print(whichdiscount)\n",
    "        whichSalespoint = salespoint\n",
    "        print(whichYear,whichMonth,whichWeeks,whichSalespoint,whichdiscount )\n",
    "        ############################################\n",
    "\n",
    "        ####### Channel percents & Discount ########\n",
    "        #[21.302184906234302, 2207.568840961414, 4079.5170408963013, 121.23482218364178, 502.41375103983694, 12024.250246478477, 113.71311353409266, 0.0]\n",
    "        #[0.001117, 0.115761, 0.213923, 0.006357, 0.026346, 0.630532, 0.005963, 0.000000]\n",
    "        channel1 = 0.001117\n",
    "        channel2 = 0.115761\n",
    "        channel3 = 0.213923\n",
    "        channel4 = 0.006357\n",
    "        channel5 = 0.026346\n",
    "        channel6 = 0.630532\n",
    "        channel7 = 0.005963\n",
    "        channel8 = 0.000000\n",
    "\n",
    "        discount = whichdiscount[0]\n",
    "        ############################################ \n",
    "\n",
    "        ############# Find week number #############\n",
    "        monthsDic = {'Jan':1, 'Feb':2, 'Mar':3, 'Apr':4, 'May':5, 'Jun':6, 'Jul':7, 'Aug':8, 'Sep':9, 'Oct':10, 'Nov':11, 'Dec':12}\n",
    "        whichMonthNum = monthsDic[whichMonth]\n",
    "        #print (whichMonthNum)\n",
    "\n",
    "        cal = calendar.Calendar()\n",
    "        weeksInMonth = cal.monthdayscalendar(whichYear, whichMonthNum)\n",
    "        #print (weeksInMonth)\n",
    "\n",
    "        if (whichWeeks[0]==\"Entire month\"):\n",
    "            weeksNeeded = [i for i in range(1,len(weeksInMonth)+1)]\n",
    "            if (weeksInMonth[0].count(0) > 3):\n",
    "                del weeksNeeded[0]\n",
    "            if (weeksInMonth[-1].count(0) > 3):\n",
    "                del weeksNeeded[-1]\n",
    "        else:\n",
    "            weeksNeeded = [int(i) for i in whichWeeks]   \n",
    "        #print (weeksNeeded)\n",
    "        c=0\n",
    "        for discount in whichdiscount:\n",
    "            print(discount)\n",
    "            predicted_sum = [0]*21\n",
    "            con = True\n",
    "\n",
    "            for x in weeksNeeded:\n",
    "                if (x>len(weeksInMonth)):\n",
    "                    con = False\n",
    "                    break\n",
    "                if (x == len(weeksInMonth) and weeksInMonth[-1].count(0) != 0):\n",
    "                    day = weeksInMonth[-1].count(0)\n",
    "                    #print (day)\n",
    "                    if (whichMonthNum!=12):\n",
    "                        weekNumber = datetime.date(whichYear, whichMonthNum+1, day).isocalendar()[1]\n",
    "                    else:\n",
    "                        weekNumber = datetime.date(whichYear+1, 1, day).isocalendar()[1]\n",
    "                else:\n",
    "                    lastDayOfWeek = weeksInMonth[x-1][6]\n",
    "                    #print (lastDayOfWeek)\n",
    "                    weekNumber = datetime.date(whichYear, whichMonthNum, lastDayOfWeek).isocalendar()[1]\n",
    "                if (weekNumber==53):\n",
    "                    weekNumber = 52\n",
    "                #print (weekNumber)\n",
    "                ############################################\n",
    "\n",
    "                ############# Weeks to New year ############\n",
    "                weeks_per_year = datetime.date(whichYear, 12, 28).isocalendar()[1]\n",
    "                newyear_week = datetime.date(whichYear, 4, 14).isocalendar()[1]\n",
    "\n",
    "                if (weekNumber<=newyear_week):\n",
    "                    weeksToNewyear = newyear_week - weekNumber\n",
    "                else:\n",
    "                    newyear_week = datetime.date(whichYear+1, 4, 14).isocalendar()[1]\n",
    "                    weeksToNewyear = newyear_week + (weeks_per_year-weekNumber)\n",
    "                #print (weeksToNewyear)\n",
    "                ############################################\n",
    "\n",
    "                ############ Weeks to Christmas ############\n",
    "                christmas_week = datetime.date(whichYear, 12, 25).isocalendar()[1]\n",
    "\n",
    "                if (weekNumber<=christmas_week):\n",
    "                    weeksToChristmas = christmas_week - weekNumber\n",
    "                else:\n",
    "                    christmas_week = datetime.date(whichYear+1, 12, 25).isocalendar()[1]\n",
    "                    weeksToChristmas = christmas_week\n",
    "                #print (weeksToChristmas)\n",
    "                ############################################\n",
    "\n",
    "                y_predicted = ForecastWalltiles( whichYear, whichMonthNum, weekNumber, weeksToNewyear, weeksToChristmas, channel1, channel2, channel3, channel4, \n",
    "                                                channel5, channel6, channel7, channel8, discount, whichSalespoint ) \n",
    "\n",
    "                predicted_sum = list(map(add, predicted_sum, y_predicted[0]))\n",
    "                #print (predicted_sum)\n",
    "                predicted_sum = predicted_sum[:]\n",
    "           # df_discount=[df_discount+predicted_sum]\n",
    "       # print(df_discount)\n",
    "            \n",
    "        \n",
    "            if (con):\n",
    "                print (discount)\n",
    "                dicWall = {'Year':[Year]*21,'month':[month]*21,'week':[week]*21,'salespoint':[salespoint]*21,'Discount':[discount]*21, 'Walltile_size':['WallTiles A','WallTiles B','WallTiles C','WallTiles D','WallTiles E','WallTiles F','WallTiles G','WallTiles H',\n",
    "                        'WallTiles I','WallTiles K','WallTiles L','WallTiles M','WallTiles P','WallTiles Q','WallTiles R','WallTiles S','WallTiles T',\n",
    "                        'WallTiles U','WallTiles V','WallTiles W','WallTiles Y'], 'Predicted_sales':predicted_sum}\n",
    "                dataFrameWall = pd.DataFrame(dicWall)\n",
    "                #print(dataFrameWall)\n",
    "                if c==0:\n",
    "                    df_temp=dataFrameWall\n",
    "                    c=1\n",
    "                else:\n",
    "\n",
    "\n",
    "                #result = pd.concat(df_discount, ignore_index=True)\n",
    "                    df_temp= df_temp.append([dataFrameWall])\n",
    "                #print(df_temp)\n",
    "                \n",
    "                jsonfiles = json.loads( df_temp.to_json(orient='records'))\n",
    "\n",
    "                print(jsonfiles)\n",
    "            else:\n",
    "                print ('Your one of the weeks is not in the month')\n",
    "        df_temp.to_excel(\"C:/Users/kuruparans/Desktop/Sales_forecasting_model/discountplot.xlsx\")\n",
    "\n",
    "        return jsonfiles       \n",
    "\n",
    "\n",
    "\n",
    "\n",
    "\n",
    "\n",
    "api.add_resource(predic2, '/predic2') # Route_2\n",
    "\n",
    "\n",
    "\n",
    "if __name__ == '__main__':\n",
    "     app.run(port='5002')\n",
    "    #app.run(host= '0.0.0.0',port='5002')\n"
   ]
  },
  {
   "cell_type": "code",
   "execution_count": null,
   "metadata": {},
   "outputs": [],
   "source": []
  },
  {
   "cell_type": "code",
   "execution_count": 86,
   "metadata": {
    "scrolled": true
   },
   "outputs": [
    {
     "name": "stdout",
     "output_type": "stream",
     "text": [
      "    SalesPoint  Longitude  Latitude                                   Address\n",
      "0        DBALU  80.001562  6.433862  NO.117, MEDAPARA,SEENAWATHTHA, ALUTHGAMA\n",
      "1        DBANG  80.898522  6.166912  RANNA RD, ANGUNAKOLAPELESSA             \n",
      "9        DBANU  80.414605  8.323597  NO.859, PREMAN MW, ANURADHAPURA         \n",
      "10       DBBAN  80.998085  6.829897  UVA SPICE BUILDING, AMBEGODA,BANDARAWELA\n",
      "13       DBCOL  79.860800  6.940318  22, MESSENGER STREET, COLOMBO-12        \n",
      "..         ...        ...       ...                                       ...\n",
      "110      FDCHI        NaN       NaN  NONE                                    \n",
      "111      FDHOR        NaN       NaN  NO 56, PADUKKA ROAD, HORANA             \n",
      "113      FDJFN        NaN       NaN  No.115, Stanly Road, Jaffna             \n",
      "114      FDKAL        NaN       NaN  365, Galle Raod, Kalutara South         \n",
      "116      FDMAG        NaN       NaN  89, HIGHLEVEL ROAD, MAHARAGAMA          \n",
      "\n",
      "[87 rows x 4 columns]\n"
     ]
    }
   ],
   "source": [
    "import pandas as pd\n",
    "coordinates = pd.read_csv(\"C:\\\\Users\\\\kuruparans\\\\Desktop\\\\Sales_forecasting_model\\\\coordinates.csv\") \n",
    "\n",
    "salespo=[]\n",
    "for key,value in spNum.items(): \n",
    "    temp = key\n",
    "    salespo.append(temp)\n",
    "result=coordinates.loc[coordinates['SalesPoint'].isin(salespo)]\n",
    "print(result)\n"
   ]
  },
  {
   "cell_type": "code",
   "execution_count": 89,
   "metadata": {},
   "outputs": [
    {
     "name": "stdout",
     "output_type": "stream",
     "text": [
      "  SalesPoint  Longitude  Latitude                                   Address\n",
      "0      DBALU  80.001562  6.433862  NO.117, MEDAPARA,SEENAWATHTHA, ALUTHGAMA\n"
     ]
    }
   ],
   "source": [
    "whichSalespoint='DBALU'\n",
    "result=coordinates.loc[coordinates['SalesPoint']==whichSalespoint]\n",
    "Address=result['Address']\n",
    "Lat=['Latitude']\n",
    "Long=['Longitude']\n",
    "print(result)\n"
   ]
  },
  {
   "cell_type": "code",
   "execution_count": null,
   "metadata": {},
   "outputs": [],
   "source": []
  },
  {
   "cell_type": "code",
   "execution_count": null,
   "metadata": {},
   "outputs": [],
   "source": []
  },
  {
   "cell_type": "code",
   "execution_count": null,
   "metadata": {},
   "outputs": [],
   "source": []
  },
  {
   "cell_type": "code",
   "execution_count": null,
   "metadata": {},
   "outputs": [],
   "source": []
  },
  {
   "cell_type": "code",
   "execution_count": null,
   "metadata": {},
   "outputs": [],
   "source": []
  },
  {
   "cell_type": "code",
   "execution_count": null,
   "metadata": {},
   "outputs": [],
   "source": []
  },
  {
   "cell_type": "code",
   "execution_count": 76,
   "metadata": {},
   "outputs": [],
   "source": [
    "\n"
   ]
  },
  {
   "cell_type": "code",
   "execution_count": null,
   "metadata": {},
   "outputs": [],
   "source": []
  },
  {
   "cell_type": "code",
   "execution_count": null,
   "metadata": {},
   "outputs": [],
   "source": []
  }
 ],
 "metadata": {
  "kernelspec": {
   "display_name": "Python 3",
   "language": "python",
   "name": "python3"
  }
 },
 "nbformat": 4,
 "nbformat_minor": 2
}
